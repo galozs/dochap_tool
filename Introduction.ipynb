{
 "cells": [
  {
   "cell_type": "markdown",
   "metadata": {},
   "source": [
    "# Introduction to Dochap-Tool\n",
    "## Abstract:\n",
    "- Simple tool created for comparing exons and domains between transcripts\n",
    "\n",
    "## Requeirments:\n",
    "- Python 3.6\n",
    "\n",
    "## Installation\n",
    "**Manually from source**\n",
    "```\n",
    "git clone https://github.com/nitzanel/dochap_tool.git\n",
    "cd dochap_tool\n",
    "python setup.py install --user\n",
    "```\n",
    "**Using pip**\n",
    "```\n",
    "pip install dochap_tool\n",
    "```"
   ]
  },
  {
   "cell_type": "markdown",
   "metadata": {},
   "source": [
    "# Downloading species data"
   ]
  },
  {
   "cell_type": "markdown",
   "metadata": {},
   "source": [
    "## Downloading from ucsc"
   ]
  },
  {
   "cell_type": "code",
   "execution_count": null,
   "metadata": {
    "collapsed": true
   },
   "outputs": [],
   "source": [
    "from dochap_tool.ucsc_utils import downloader as ucsc_downloader\n",
    "# Download ucsc tables of Mus Musculus into the folder 'data'\n",
    "ucsc_downloader.download_specie_from_ucsc('data', 'Mus_musculus')"
   ]
  },
  {
   "cell_type": "markdown",
   "metadata": {},
   "source": [
    "## Downloading from ncbi"
   ]
  },
  {
   "cell_type": "code",
   "execution_count": null,
   "metadata": {
    "collapsed": true
   },
   "outputs": [],
   "source": [
    "from dochap_tool.ncbi_utils import downloader as ncbi_downloader\n",
    "# Download ncbi genbank of Mus Musculus into the folder 'data'\n",
    "ncbi_downloader.download_specie_from_ncbi('data', 'Mus_musculus')"
   ]
  },
  {
   "cell_type": "markdown",
   "metadata": {},
   "source": [
    "### Updating data from ncbi"
   ]
  },
  {
   "cell_type": "code",
   "execution_count": null,
   "metadata": {
    "collapsed": true
   },
   "outputs": [],
   "source": [
    "from dochap_tool.ncbi_utils import updater\n",
    "# Check for updates of ncbi genbank in the folder 'data'\n",
    "updater.check_for_updates('data')"
   ]
  },
  {
   "cell_type": "markdown",
   "metadata": {},
   "source": [
    "# Creating the database"
   ]
  },
  {
   "cell_type": "markdown",
   "metadata": {},
   "source": [
    "### Generating all the tables for a given specie"
   ]
  },
  {
   "cell_type": "code",
   "execution_count": null,
   "metadata": {
    "collapsed": true,
    "scrolled": false
   },
   "outputs": [],
   "source": [
    "# create Mus_musculus database\n",
    "from dochap_tool.db_utils import create_db\n",
    "# create_db needs a folder for storing the db files, and a specie to create a db for.\n",
    "# create the database of Mus Musculus in the folder 'data', from the files found in 'data'\n",
    "create_db.create_db('data', 'Mus_musculus')"
   ]
  },
  {
   "cell_type": "markdown",
   "metadata": {},
   "source": [
    "### Generating specific tables"
   ]
  },
  {
   "cell_type": "code",
   "execution_count": null,
   "metadata": {
    "collapsed": true
   },
   "outputs": [],
   "source": [
    "# create Mus_musculus knwon gene table in the database\n",
    "from dochap_tool.db_utils import create_db\n",
    "# tables is passed as a list, and must contain the strings from:\n",
    "# 'known_gene', 'genbank', 'alias'\n",
    "# Here we generate only the known_gene table\n",
    "create_db.create_db('data', 'Mus_musculus', tables=['known_gene'])"
   ]
  },
  {
   "cell_type": "markdown",
   "metadata": {},
   "source": [
    "# Querying the database"
   ]
  },
  {
   "cell_type": "markdown",
   "metadata": {},
   "source": [
    "## Getting aliases of gene symbols"
   ]
  },
  {
   "cell_type": "code",
   "execution_count": null,
   "metadata": {
    "collapsed": true
   },
   "outputs": [],
   "source": [
    "from dochap_tool.compare_utils import compare_exons\n",
    "from dochap_tool.common_utils import utils\n",
    "conn = utils.get_connection_object('data', 'Mus_musculus')\n",
    "with conn:\n",
    "    symbol = \"nfkb2\"\n",
    "    symbols_by_ids = compare_exons.get_gene_aliases_of_gene_symbol(conn, symbol)\n",
    "    print(utils.format_and_color(symbols_by_ids))"
   ]
  },
  {
   "cell_type": "markdown",
   "metadata": {},
   "source": [
    "## Getting transcript ids of gene symbols"
   ]
  },
  {
   "cell_type": "code",
   "execution_count": null,
   "metadata": {
    "collapsed": true
   },
   "outputs": [],
   "source": [
    "from dochap_tool.common_utils import utils\n",
    "from dochap_tool.compare_utils import compare_exons\n",
    "conn = utils.get_connection_object('data','Mus_musculus')\n",
    "with conn:\n",
    "    t_ids1 = compare_exons.get_transcript_ids_of_gene_symbol(conn, 'Xkr5')\n",
    "    t_ids2 = compare_exons.get_transcript_ids_of_gene_symbol(conn, 'Xkr4')\n",
    "    t_ids3 = compare_exons.get_transcript_ids_of_gene_symbol(conn, 'noactualgene')\n",
    "    print('t_ids1:', utils.format_and_color(t_ids1))\n",
    "    print('t_ids2:', utils.format_and_color(t_ids2))\n",
    "    print('t_ids3:', utils.format_and_color(t_ids3))"
   ]
  },
  {
   "cell_type": "markdown",
   "metadata": {},
   "source": [
    "## Getting exons from the database"
   ]
  },
  {
   "cell_type": "markdown",
   "metadata": {},
   "source": [
    "### By transcript id"
   ]
  },
  {
   "cell_type": "code",
   "execution_count": null,
   "metadata": {
    "collapsed": true,
    "scrolled": true
   },
   "outputs": [],
   "source": [
    "from dochap_tool.compare_utils import compare_exons\n",
    "from dochap_tool.common_utils import utils\n",
    "exons = compare_exons.get_exons_from_transcript_id('data','Mus_musculus','uc009kzx.3')\n",
    "print(utils.format_and_color(exons))"
   ]
  },
  {
   "cell_type": "markdown",
   "metadata": {},
   "source": [
    "### By gene symbol"
   ]
  },
  {
   "cell_type": "code",
   "execution_count": null,
   "metadata": {
    "collapsed": true,
    "scrolled": true
   },
   "outputs": [],
   "source": [
    "from dochap_tool.compare_utils import compare_exons\n",
    "from dochap_tool.common_utils import utils\n",
    "exons = compare_exons.get_exons_from_gene_symbol('data','Mus_musculus','NFKB2')\n",
    "print(utils.format_and_color(exons))"
   ]
  },
  {
   "cell_type": "markdown",
   "metadata": {},
   "source": [
    "## Getting domains from the database"
   ]
  },
  {
   "cell_type": "code",
   "execution_count": null,
   "metadata": {
    "collapsed": true,
    "scrolled": true
   },
   "outputs": [],
   "source": [
    "from dochap_tool.compare_utils import compare_exons\n",
    "from dochap_tool.common_utils import utils\n",
    "domains = compare_exons.get_domains_of_gene_symbol('data', 'Mus_musculus', 'NFKB2')\n",
    "print(utils.format_and_color(domains))"
   ]
  },
  {
   "cell_type": "markdown",
   "metadata": {},
   "source": [
    "## Getting intersections between exons and domains"
   ]
  },
  {
   "cell_type": "code",
   "execution_count": null,
   "metadata": {
    "collapsed": true,
    "scrolled": true
   },
   "outputs": [],
   "source": [
    "## redo ##\n",
    "\"\"\"\n",
    "from dochap_tool.compare_utils import compare_exons\n",
    "from dochap_tool.common_utils import utils\n",
    "gene_symbol = 'NFKB2'\n",
    "exons_variants = compare_exons.get_exons_from_gene_symbol('data','Mus_musculus',gene_symbol)\n",
    "domains_variants = compare_exons.get_domains_of_gene_symbol('data','Mus_musculus',gene_symbol)\n",
    "print(f'intersections by transcript ids and domain variations for gene symbol {gene_symbol}:\\n')\n",
    "if not exons_variants:\n",
    "    print(f'no exons for {gene_symbol}')\n",
    "if not domains_variants:\n",
    "    print(f'no domains for {gene_symbol}')\n",
    "for transcript_id, exons_variant in exons_variants.items():\n",
    "    for domains_variant_index,domains_variant in enumerate(domains_variants):\n",
    "        intersections = compare_exons.get_domains_intersections_in_exons(domains_variant,exons_variant)\n",
    "        print(f'transcript_id:{transcript_id}, domain_variant:{domains_variant_index}\\n',utils.format_and_color(intersections))\n",
    "\"\"\""
   ]
  },
  {
   "cell_type": "markdown",
   "metadata": {},
   "source": [
    "# Parsing gtf files"
   ]
  },
  {
   "cell_type": "markdown",
   "metadata": {},
   "source": [
    "### Loading from file"
   ]
  },
  {
   "cell_type": "code",
   "execution_count": null,
   "metadata": {
    "collapsed": true,
    "scrolled": true
   },
   "outputs": [],
   "source": [
    "from dochap_tool.gtf_utils import parser as gtf_parser\n",
    "from dochap_tool.common_utils import utils\n",
    "transcripts = gtf_parser.parse_gtf_file('gtf_testing/transcripts.gtf')\n",
    "items = [(key, value) for key, value in transcripts.items()]\n",
    "# show the first 10 transcripts\n",
    "sub_items = {key: value for (key, value) in items[:2]}\n",
    "print(utils.format_and_color(sub_items))\n",
    "interesting_item = transcripts['CUFF.36899.4']\n",
    "print(utils.format_and_color(interesting_item))"
   ]
  },
  {
   "cell_type": "markdown",
   "metadata": {},
   "source": [
    "### Getting transcripts of the same genes"
   ]
  },
  {
   "cell_type": "code",
   "execution_count": null,
   "metadata": {
    "collapsed": true
   },
   "outputs": [],
   "source": [
    "from dochap_tool.gtf_utils import parser as gtf_parser\n",
    "from dochap_tool.common_utils import utils\n",
    "transcripts = gtf_parser.parse_gtf_file('gtf_testing/transcripts.gtf')\n",
    "some_transcripts_ids = ['uc008hst.2']\n",
    "user_transcripts = gtf_parser.get_transcripts_like_ids(gtf_data, some_transcripts_ids)\n",
    "print(utils.format_and_color(list(user_transcripts.keys())))\n",
    "print(utils.format_and_color(user_transcripts))"
   ]
  },
  {
   "cell_type": "markdown",
   "metadata": {},
   "source": [
    "# Displaying data and comparing"
   ]
  },
  {
   "cell_type": "markdown",
   "metadata": {},
   "source": [
    "## Drawing exons and domains"
   ]
  },
  {
   "cell_type": "code",
   "execution_count": null,
   "metadata": {
    "scrolled": false
   },
   "outputs": [],
   "source": [
    "from dochap_tool.draw_utils import draw_tool\n",
    "from dochap_tool.common_utils import utils\n",
    "from dochap_tool.gtf_utils import parser as gtf_parser\n",
    "from dochap_tool.compare_utils import compare_exons\n",
    "from IPython.core.display import SVG, display\n",
    "gene_symbol='nfkb2'\n",
    "exons_variants = compare_exons.get_exons_from_gene_symbol('data','Mus_musculus',gene_symbol)\n",
    "gtf_data = gtf_parser.parse_gtf_file('data/gtf_files/transcripts.gtf')\n",
    "user_transcripts = gtf_parser.get_transcripts_like_ids(gtf_data, exons_variants.keys())\n",
    "\n",
    "#domains_variants = compare_exons.get_domains_of_gene_symbol('data','Mus_musculus',gene_symbol)\n",
    "user_svgs, db_svgs, numbered_line = draw_tool.draw_combination(gene_symbol, user_transcripts, 'blue', exons_variants, 'purple')\n",
    "combined_keys = set(list(user_svgs.keys()) + list(db_svgs.keys()))\n",
    "display(SVG(data=numbered_line))\n",
    "for key in combined_keys:\n",
    "    if key in user_svgs:\n",
    "        display(SVG(data=user_svgs[key]))\n",
    "    if key in db_svgs:\n",
    "        display(SVG(data=db_svgs[key]))"
   ]
  },
  {
   "cell_type": "code",
   "execution_count": null,
   "metadata": {
    "collapsed": true
   },
   "outputs": [],
   "source": []
  }
 ],
 "metadata": {
  "kernelspec": {
   "display_name": "Python 3",
   "language": "python",
   "name": "python3"
  },
  "language_info": {
   "codemirror_mode": {
    "name": "ipython",
    "version": 3
   },
   "file_extension": ".py",
   "mimetype": "text/x-python",
   "name": "python",
   "nbconvert_exporter": "python",
   "pygments_lexer": "ipython3",
   "version": "3.6.4"
  }
 },
 "nbformat": 4,
 "nbformat_minor": 2
}
