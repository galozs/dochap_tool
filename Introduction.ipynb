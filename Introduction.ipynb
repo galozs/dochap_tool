{
 "cells": [
  {
   "cell_type": "markdown",
   "metadata": {},
   "source": [
    "# Introduction to Dochap-Tool\n",
    "## Abstract:\n",
    "* Simple tool created for comparing exons and domains between transcripts\n",
    "\n",
    "## Requeirments:\n",
    "* Python 3.6\n",
    "\n",
    "## Installation\n",
    "```\n",
    "git clone https://github.com/nitzanel/dochap_tool.git\n",
    "cd dochap_tool\n",
    "python setup.py install --user\n",
    "```"
   ]
  },
  {
   "cell_type": "code",
   "execution_count": null,
   "metadata": {
    "collapsed": true
   },
   "outputs": [],
   "source": [
    "# coloring json for ease on the eyes\n",
    "from pygments import highlight, lexers, formatters\n",
    "import json\n",
    "def format_and_color(param):\n",
    "    formatted_json = json.dumps(param,indent=4)\n",
    "    colorful_json = highlight(formatted_json, lexers.JsonLexer(), formatters.TerminalFormatter())\n",
    "    return colorful_json"
   ]
  },
  {
   "cell_type": "markdown",
   "metadata": {},
   "source": [
    "# Querying the database"
   ]
  },
  {
   "cell_type": "markdown",
   "metadata": {},
   "source": [
    "## Getting transcript ids of gene symbols"
   ]
  },
  {
   "cell_type": "code",
   "execution_count": null,
   "metadata": {
    "collapsed": true
   },
   "outputs": [],
   "source": [
    "from dochap_tool.common_utils import utils\n",
    "from dochap_tool.compare_utils import compare_exons\n",
    "conn = utils.get_connection_object('data','Mus_musculus')\n",
    "with conn:\n",
    "    t_ids1 = compare_exons.get_transcript_ids_of_gene_symbol(conn,'Xkr5')\n",
    "    t_ids2 = compare_exons.get_transcript_ids_of_gene_symbol(conn,'Xkr4')\n",
    "    t_ids3 = compare_exons.get_transcript_ids_of_gene_symbol(conn,'noactualgene')\n",
    "    print('t_ids1:',format_and_color(t_ids1))\n",
    "    print('t_ids2:',format_and_color(t_ids2))\n",
    "    print('t_ids3:',format_and_color(t_ids3))"
   ]
  },
  {
   "cell_type": "markdown",
   "metadata": {},
   "source": [
    "## Getting exons from the database"
   ]
  },
  {
   "cell_type": "markdown",
   "metadata": {},
   "source": [
    "### By transcript id"
   ]
  },
  {
   "cell_type": "code",
   "execution_count": null,
   "metadata": {
    "collapsed": true,
    "scrolled": true
   },
   "outputs": [],
   "source": [
    "exons = compare_exons.get_exons_from_transcript_id('data','Mus_musculus','uc009kzx.3')\n",
    "print (format_and_color(exons))"
   ]
  },
  {
   "cell_type": "markdown",
   "metadata": {},
   "source": [
    "### By gene symbol"
   ]
  },
  {
   "cell_type": "code",
   "execution_count": null,
   "metadata": {
    "collapsed": true,
    "scrolled": true
   },
   "outputs": [],
   "source": [
    "exons = compare_exons.get_exons_from_gene_symbol('data','Mus_musculus','Xkr5')\n",
    "print (format_and_color(exons))"
   ]
  },
  {
   "cell_type": "markdown",
   "metadata": {},
   "source": [
    "## Getting domains from the database"
   ]
  },
  {
   "cell_type": "code",
   "execution_count": null,
   "metadata": {
    "collapsed": true,
    "scrolled": true
   },
   "outputs": [],
   "source": [
    "domains = compare_exons.get_domains_of_gene_symbol('data','Mus_musculus','Xkr5')\n",
    "print(format_and_color(domains))"
   ]
  },
  {
   "cell_type": "markdown",
   "metadata": {},
   "source": [
    "## Getting intersections between exons and domains"
   ]
  },
  {
   "cell_type": "code",
   "execution_count": null,
   "metadata": {
    "collapsed": true,
    "scrolled": true
   },
   "outputs": [],
   "source": [
    "gene_symbol = 'Tlr7'\n",
    "exons_variants = compare_exons.get_exons_from_gene_symbol('data','Mus_musculus',gene_symbol)\n",
    "domains_variants = compare_exons.get_domains_of_gene_symbol('data','Mus_musculus',gene_symbol)\n",
    "print(f'intersections by transcript ids and domain variations for gene symbol {gene_symbol}:\\n')\n",
    "if not exons_variants:\n",
    "    print(f'no exons for {gene_symbol}')\n",
    "if not domains_variants:\n",
    "    print(f'no domains for {gene_symbol}')\n",
    "for transcript_id, exons_variant in exons_variants.items():\n",
    "    for domains_variant_index,domains_variant in enumerate(domains_variants):\n",
    "        intersections = compare_exons.get_domains_intersections_in_exons(domains_variant,exons_variant)\n",
    "        print(f'transcript_id:{transcript_id}, domain_variant:{domains_variant_index}\\n',format_and_color(intersections))"
   ]
  },
  {
   "cell_type": "markdown",
   "metadata": {},
   "source": [
    "# Parsing gtf files"
   ]
  },
  {
   "cell_type": "code",
   "execution_count": null,
   "metadata": {
    "collapsed": true,
    "scrolled": true
   },
   "outputs": [],
   "source": [
    "from dochap_tool.gtf_utils import parser as gtf_parser\n",
    "transcripts = gtf_parser.parse_gtf_file('gtf_testing/test.gtf')\n",
    "items = [(key,value) for key,value in transcripts.items()]\n",
    "sub_items = {key:value for (key,value) in items[10:20]}\n",
    "print(format_and_color(sub_items))"
   ]
  },
  {
   "cell_type": "markdown",
   "metadata": {},
   "source": [
    "# Displaying data and comparing"
   ]
  },
  {
   "cell_type": "markdown",
   "metadata": {},
   "source": [
    "## Drawing exons and domains"
   ]
  },
  {
   "cell_type": "code",
   "execution_count": null,
   "metadata": {
    "collapsed": true,
    "scrolled": true
   },
   "outputs": [],
   "source": [
    "from dochap_tool.draw_utils import draw_tool\n",
    "from IPython.core.display import SVG,display\n",
    "gene_symbol='rxrg'\n",
    "exons_variants = compare_exons.get_exons_from_gene_symbol('data','Mus_musculus',gene_symbol)\n",
    "other_exons = gtf_parser.parse_gtf_file('gtf_testing/transcripts.gtf')\n",
    "other_exons = gtf_parser.get_transcripts_by_gene_symbol(other_exons,gene_symbol)\n",
    "domains_variants = compare_exons.get_domains_of_gene_symbol('data','Mus_musculus',gene_symbol)\n",
    "for t_id in exons_variants:\n",
    "    if t_id in other_exons:\n",
    "        t_id_text = f'user transcript id:{t_id}'\n",
    "        display(SVG(data=draw_tool.draw_exons(other_exons[t_id],t_id_text)))\n",
    "        del other_exons[t_id]\n",
    "    t_id_text = f'transcript id: {t_id}'\n",
    "    display(SVG(data=draw_tool.draw_exons(exons_variants[t_id],t_id_text)))\n",
    "    for index,domain_variant in enumerate(domains_variants):\n",
    "        variant_text = f'domain variant: {index+1}'\n",
    "        display(SVG(data=draw_tool.draw_domains(domain_variant,variant_text)))\n",
    "for exon_variant in other_exons:\n",
    "    t_id_text = f'user transcript id:{exon_variant}'\n",
    "    display(SVG(data=draw_tool.draw_exons(other_exons[exon_variant],t_id_text)))"
   ]
  },
  {
   "cell_type": "markdown",
   "metadata": {},
   "source": [
    "# Downloading species data"
   ]
  },
  {
   "cell_type": "markdown",
   "metadata": {},
   "source": [
    "## Downloading from ncbi"
   ]
  },
  {
   "cell_type": "code",
   "execution_count": null,
   "metadata": {
    "collapsed": true
   },
   "outputs": [],
   "source": [
    "from dochap_tool.ncbi_utils import downloader as ncbi_downloader\n",
    "ncbi_downloader.download_specie_from_ncbi('data','Mus_musculus')"
   ]
  },
  {
   "cell_type": "markdown",
   "metadata": {},
   "source": [
    "### Updating data from ncbi"
   ]
  },
  {
   "cell_type": "code",
   "execution_count": null,
   "metadata": {
    "collapsed": true
   },
   "outputs": [],
   "source": [
    "from dochap_tool.ncbi_utils import updater\n",
    "updater.check_for_updates('data')"
   ]
  },
  {
   "cell_type": "markdown",
   "metadata": {},
   "source": [
    "## Downloading from ucsc"
   ]
  },
  {
   "cell_type": "code",
   "execution_count": null,
   "metadata": {
    "collapsed": true,
    "scrolled": true
   },
   "outputs": [],
   "source": [
    "from dochap_tool.ucsc_utils import downloader as ucsc_downloader\n",
    "ucsc_downloader.download_specie_from_ucsc('data','Mus_musculus')"
   ]
  },
  {
   "cell_type": "markdown",
   "metadata": {},
   "source": [
    "# Creating the database"
   ]
  },
  {
   "cell_type": "code",
   "execution_count": null,
   "metadata": {
    "collapsed": true,
    "scrolled": false
   },
   "outputs": [],
   "source": [
    "# create Mus_musculus database for testing functions\n",
    "from dochap_tool.db_utils import create_db\n",
    "# create_db needs a folder for storing the db files, and a specie to create a db for.\n",
    "create_db.create_db('data','Mus_musculus')"
   ]
  }
 ],
 "metadata": {
  "kernelspec": {
   "display_name": "Python 3",
   "language": "python",
   "name": "python3"
  },
  "language_info": {
   "codemirror_mode": {
    "name": "ipython",
    "version": 3
   },
   "file_extension": ".py",
   "mimetype": "text/x-python",
   "name": "python",
   "nbconvert_exporter": "python",
   "pygments_lexer": "ipython3",
   "version": "3.6.4"
  }
 },
 "nbformat": 4,
 "nbformat_minor": 2
}
