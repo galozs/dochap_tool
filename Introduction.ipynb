{
 "cells": [
  {
   "cell_type": "markdown",
   "metadata": {},
   "source": [
    "# Introduction to Dochap-Tool\n",
    "## Abstract:\n",
    "- Simple tool created for comparing exons and domains between transcripts\n",
    "\n",
    "## Requeirments:\n",
    "- Python 3.6\n",
    "\n",
    "## Installation\n",
    "```\n",
    "git clone https://github.com/nitzanel/dochap_tool.git\n",
    "cd dochap_tool\n",
    "python setup.py install --user\n",
    "```"
   ]
  },
  {
   "cell_type": "markdown",
   "metadata": {},
   "source": [
    "# Downloading species data"
   ]
  },
  {
   "cell_type": "markdown",
   "metadata": {},
   "source": [
    "## Downloading from ucsc"
   ]
  },
  {
   "cell_type": "code",
   "execution_count": null,
   "metadata": {
    "collapsed": true,
    "scrolled": true
   },
   "outputs": [],
   "source": [
    "from dochap_tool.ucsc_utils import downloader as ucsc_downloader\n",
    "# Download ucsc tables of Mus Musculus into the folder 'data'\n",
    "ucsc_downloader.download_specie_from_ucsc('data','Mus_musculus')"
   ]
  },
  {
   "cell_type": "markdown",
   "metadata": {},
   "source": [
    "## Downloading from ncbi"
   ]
  },
  {
   "cell_type": "code",
   "execution_count": null,
   "metadata": {
    "collapsed": true
   },
   "outputs": [],
   "source": [
    "from dochap_tool.ncbi_utils import downloader as ncbi_downloader\n",
    "# Download ncbi genbank of Mus Musculus into the folder 'data'\n",
    "ncbi_downloader.download_specie_from_ncbi('data','Mus_musculus')"
   ]
  },
  {
   "cell_type": "markdown",
   "metadata": {},
   "source": [
    "### Updating data from ncbi"
   ]
  },
  {
   "cell_type": "code",
   "execution_count": null,
   "metadata": {
    "collapsed": true
   },
   "outputs": [],
   "source": [
    "from dochap_tool.ncbi_utils import updater\n",
    "# Check for updates of ncbi genbank in the folder 'data'\n",
    "updater.check_for_updates('data')"
   ]
  },
  {
   "cell_type": "markdown",
   "metadata": {},
   "source": [
    "# Creating the database"
   ]
  },
  {
   "cell_type": "code",
   "execution_count": null,
   "metadata": {
    "collapsed": true,
    "scrolled": false
   },
   "outputs": [],
   "source": [
    "# create Mus_musculus database for testing functions\n",
    "from dochap_tool.db_utils import create_db\n",
    "# create_db needs a folder for storing the db files, and a specie to create a db for.\n",
    "# create the database of Mus Musculus in the folder 'data', from the files found in 'data'\n",
    "create_db.create_db('data','Mus_musculus')"
   ]
  },
  {
   "cell_type": "markdown",
   "metadata": {},
   "source": [
    "# Querying the database"
   ]
  },
  {
   "cell_type": "markdown",
   "metadata": {},
   "source": [
    "## Getting aliases of gene symbols"
   ]
  },
  {
   "cell_type": "code",
   "execution_count": null,
   "metadata": {
    "collapsed": true
   },
   "outputs": [],
   "source": [
    "from dochap_tool.compare_utils import compare_exons\n",
    "from dochap_tool.common_utils import utils\n",
    "conn = utils.get_connection_object('data','Mus_musculus')\n",
    "with conn:\n",
    "    symbol = \"nfkb2\"\n",
    "    symbols_by_ids = compare_exons.get_gene_aliases_of_gene_symbol(conn, symbol)\n",
    "    print(utils.format_and_color(symbols_by_ids))\n",
    "    "
   ]
  },
  {
   "cell_type": "markdown",
   "metadata": {},
   "source": [
    "## Getting transcript ids of gene symbols"
   ]
  },
  {
   "cell_type": "code",
   "execution_count": null,
   "metadata": {
    "collapsed": true
   },
   "outputs": [],
   "source": [
    "from dochap_tool.common_utils import utils\n",
    "from dochap_tool.compare_utils import compare_exons\n",
    "conn = utils.get_connection_object('data','Mus_musculus')\n",
    "with conn:\n",
    "    t_ids1 = compare_exons.get_transcript_ids_of_gene_symbol(conn,'Xkr5')\n",
    "    t_ids2 = compare_exons.get_transcript_ids_of_gene_symbol(conn,'Xkr4')\n",
    "    t_ids3 = compare_exons.get_transcript_ids_of_gene_symbol(conn,'noactualgene')\n",
    "    print('t_ids1:',utils.format_and_color(t_ids1))\n",
    "    print('t_ids2:',utils.format_and_color(t_ids2))\n",
    "    print('t_ids3:',utils.format_and_color(t_ids3))"
   ]
  },
  {
   "cell_type": "markdown",
   "metadata": {},
   "source": [
    "## Getting exons from the database"
   ]
  },
  {
   "cell_type": "markdown",
   "metadata": {},
   "source": [
    "### By transcript id"
   ]
  },
  {
   "cell_type": "code",
   "execution_count": null,
   "metadata": {
    "collapsed": true,
    "scrolled": true
   },
   "outputs": [],
   "source": [
    "from dochap_tool.compare_utils import compare_exons\n",
    "from dochap_tool.common_utils import utils\n",
    "exons = compare_exons.get_exons_from_transcript_id('data','Mus_musculus','uc009kzx.3')\n",
    "print (utils.format_and_color(exons))"
   ]
  },
  {
   "cell_type": "markdown",
   "metadata": {},
   "source": [
    "### By gene symbol"
   ]
  },
  {
   "cell_type": "code",
   "execution_count": null,
   "metadata": {
    "collapsed": true,
    "scrolled": true
   },
   "outputs": [],
   "source": [
    "from dochap_tool.compare_utils import compare_exons\n",
    "from dochap_tool.common_utils import utils\n",
    "exons = compare_exons.get_exons_from_gene_symbol('data','Mus_musculus','NFKB2')\n",
    "print (utils.format_and_color(exons))"
   ]
  },
  {
   "cell_type": "markdown",
   "metadata": {},
   "source": [
    "## Getting domains from the database"
   ]
  },
  {
   "cell_type": "code",
   "execution_count": null,
   "metadata": {
    "collapsed": true,
    "scrolled": true
   },
   "outputs": [],
   "source": [
    "from dochap_tool.compare_utils import compare_exons\n",
    "from dochap_tool.common_utils import utils\n",
    "domains = compare_exons.get_domains_of_gene_symbol('data','Mus_musculus','NFKB2')\n",
    "print(utils.format_and_color(domains))"
   ]
  },
  {
   "cell_type": "markdown",
   "metadata": {},
   "source": [
    "## Getting intersections between exons and domains"
   ]
  },
  {
   "cell_type": "code",
   "execution_count": null,
   "metadata": {
    "collapsed": true,
    "scrolled": true
   },
   "outputs": [],
   "source": [
    "from dochap_tool.compare_utils import compare_exons\n",
    "from dochap_tool.common_utils import utils\n",
    "gene_symbol = 'NFKB2'\n",
    "exons_variants = compare_exons.get_exons_from_gene_symbol('data','Mus_musculus',gene_symbol)\n",
    "domains_variants = compare_exons.get_domains_of_gene_symbol('data','Mus_musculus',gene_symbol)\n",
    "print(f'intersections by transcript ids and domain variations for gene symbol {gene_symbol}:\\n')\n",
    "if not exons_variants:\n",
    "    print(f'no exons for {gene_symbol}')\n",
    "if not domains_variants:\n",
    "    print(f'no domains for {gene_symbol}')\n",
    "for transcript_id, exons_variant in exons_variants.items():\n",
    "    for domains_variant_index,domains_variant in enumerate(domains_variants):\n",
    "        intersections = compare_exons.get_domains_intersections_in_exons(domains_variant,exons_variant)\n",
    "        print(f'transcript_id:{transcript_id}, domain_variant:{domains_variant_index}\\n',utils.format_and_color(intersections))"
   ]
  },
  {
   "cell_type": "markdown",
   "metadata": {},
   "source": [
    "# Parsing gtf files"
   ]
  },
  {
   "cell_type": "code",
   "execution_count": null,
   "metadata": {
    "collapsed": true,
    "scrolled": true
   },
   "outputs": [],
   "source": [
    "from dochap_tool.gtf_utils import parser as gtf_parser\n",
    "from dochap_tool.common_utils import utils\n",
    "transcripts = gtf_parser.parse_gtf_file('gtf_testing/transcripts.gtf')\n",
    "items = [(key,value) for key,value in transcripts.items()]\n",
    "# show the first 10 transcripts\n",
    "sub_items = {key:value for (key,value) in items[:2]}\n",
    "print(utils.format_and_color(sub_items))\n",
    "intretsting_item = transcripts['CUFF.36899.4']\n",
    "print(utils.format_and_color(intretsting_item))"
   ]
  },
  {
   "cell_type": "markdown",
   "metadata": {},
   "source": [
    "# Displaying data and comparing"
   ]
  },
  {
   "cell_type": "markdown",
   "metadata": {},
   "source": [
    "## Drawing exons and domains"
   ]
  },
  {
   "cell_type": "code",
   "execution_count": 2,
   "metadata": {
    "scrolled": false
   },
   "outputs": [
    {
     "data": {
      "image/svg+xml": [
       "<svg baseProfile=\"tiny\" height=\"10mm\" version=\"1.2\" width=\"12cm\" xmlns=\"http://www.w3.org/2000/svg\" xmlns:ev=\"http://www.w3.org/2001/xml-events\" xmlns:xlink=\"http://www.w3.org/1999/xlink\"><defs/><rect fill=\"grey\" height=\"5mm\" opacity=\"0.5\" width=\"1.1422355180853958mm\" x=\"0.0mm\" y=\"5mm\"/><rect fill=\"black\" height=\"5mm\" opacity=\"0.5\" width=\"1.2918139787870544mm\" x=\"16.222463965189014mm\" y=\"5mm\"/><rect fill=\"orange\" height=\"5mm\" opacity=\"0.5\" width=\"1.1150394343214565mm\" x=\"21.02257274952407mm\" y=\"5mm\"/><rect fill=\"teal\" height=\"5mm\" opacity=\"0.5\" width=\"0.55751971716073mm\" x=\"23.782975251563776mm\" y=\"5mm\"/><rect fill=\"green\" height=\"5mm\" opacity=\"0.5\" width=\"1.3462061463149304mm\" x=\"27.65841718792494mm\" y=\"5mm\"/><rect fill=\"blue\" height=\"5mm\" opacity=\"0.5\" width=\"2.0669023660592885mm\" x=\"29.983682349741635mm\" y=\"5mm\"/><rect fill=\"red\" height=\"5mm\" opacity=\"0.5\" width=\"1.454990481370686mm\" x=\"35.72205602393255mm\" y=\"5mm\"/><rect fill=\"brown\" height=\"5mm\" opacity=\"0.5\" width=\"2.1620886592330777mm\" x=\"38.38727223279847mm\" y=\"5mm\"/><rect fill=\"pink\" height=\"5mm\" opacity=\"0.5\" width=\"1.4277943976067533mm\" x=\"43.772096818058195mm\" y=\"5mm\"/><rect fill=\"yellow\" height=\"5mm\" opacity=\"0.5\" width=\"1.1694316018493254mm\" x=\"46.72287190644548mm\" y=\"5mm\"/><rect fill=\"grey\" height=\"5mm\" opacity=\"0.5\" width=\"1.890127821593694mm\" x=\"49.06173511014414mm\" y=\"5mm\"/><rect fill=\"black\" height=\"5mm\" opacity=\"0.5\" width=\"1.7133532771280926mm\" x=\"52.923579004623335mm\" y=\"5mm\"/><rect fill=\"orange\" height=\"5mm\" opacity=\"0.5\" width=\"2.8555887952134853mm\" x=\"56.132716888768016mm\" y=\"5mm\"/><rect fill=\"teal\" height=\"5mm\" opacity=\"0.5\" width=\"1.9309219472395966mm\" x=\"60.07614903453903mm\" y=\"5mm\"/><rect fill=\"green\" height=\"5mm\" opacity=\"0.5\" width=\"1.563774816426431mm\" x=\"66.87516997552353mm\" y=\"5mm\"/><rect fill=\"blue\" height=\"5mm\" opacity=\"0.5\" width=\"2.909980962741372mm\" x=\"69.43160184933369mm\" y=\"5mm\"/><rect fill=\"red\" height=\"5mm\" opacity=\"0.5\" width=\"2.311667119934725mm\" x=\"74.39488713625238mm\" y=\"5mm\"/><rect fill=\"brown\" height=\"5mm\" opacity=\"0.5\" width=\"1.4005983138428206mm\" x=\"78.32472124014141mm\" y=\"5mm\"/><rect fill=\"pink\" height=\"5mm\" opacity=\"0.5\" width=\"2.0669023660592956mm\" x=\"81.41147674734837mm\" y=\"5mm\"/><rect fill=\"yellow\" height=\"5mm\" opacity=\"0.5\" width=\"0.9518629317378355mm\" x=\"85.28691868370954mm\" y=\"5mm\"/><rect fill=\"grey\" height=\"5mm\" opacity=\"0.5\" width=\"2.3524612455806277mm\" x=\"88.99918411748709mm\" y=\"5mm\"/><rect fill=\"black\" height=\"5mm\" opacity=\"0.5\" width=\"1.5229806907805283mm\" x=\"93.06499864019581mm\" y=\"5mm\"/><rect fill=\"orange\" height=\"5mm\" opacity=\"0.5\" width=\"4.324177318466141mm\" x=\"95.67582268153386mm\" y=\"5mm\"/><line stroke=\"green\" x1=\"0mm\" x2=\"120mm\" y1=\"7.5mm\" y2=\"7.5mm\"/><text x=\"0mm\" y=\"3mm\">46304736</text><text x=\"100mm\" y=\"3mm\">46312090</text><text x=\"30mm\" y=\"4.5mm\">db transcript id: uc008hst.2</text></svg>"
      ],
      "text/plain": [
       "<IPython.core.display.SVG object>"
      ]
     },
     "metadata": {},
     "output_type": "display_data"
    },
    {
     "data": {
      "image/svg+xml": [
       "<svg baseProfile=\"tiny\" height=\"10mm\" version=\"1.2\" width=\"10cm\" xmlns=\"http://www.w3.org/2000/svg\" xmlns:ev=\"http://www.w3.org/2001/xml-events\" xmlns:xlink=\"http://www.w3.org/1999/xlink\"><defs/><rect fill=\"grey\" height=\"5mm\" opacity=\"0.5\" width=\"0.1mm\" x=\"25.46mm\" y=\"5mm\"/><rect fill=\"black\" height=\"5mm\" opacity=\"0.5\" width=\"0.16mm\" x=\"27.2mm\" y=\"5mm\"/><rect fill=\"grey\" height=\"5mm\" opacity=\"0.5\" width=\"0.34mm\" x=\"20.18mm\" y=\"5mm\"/><rect fill=\"black\" height=\"5mm\" opacity=\"0.5\" width=\"1.96mm\" x=\"20.72mm\" y=\"5mm\"/><rect fill=\"orange\" height=\"5mm\" opacity=\"0.5\" width=\"1.84mm\" x=\"29.18mm\" y=\"5mm\"/><rect fill=\"teal\" height=\"5mm\" opacity=\"0.5\" width=\"1.84mm\" x=\"31.52mm\" y=\"5mm\"/><rect fill=\"green\" height=\"5mm\" opacity=\"0.5\" width=\"1.96mm\" x=\"33.5mm\" y=\"5mm\"/><rect fill=\"blue\" height=\"5mm\" opacity=\"0.5\" width=\"1.84mm\" x=\"35.9mm\" y=\"5mm\"/><rect fill=\"red\" height=\"5mm\" opacity=\"0.5\" width=\"1.9mm\" x=\"37.94mm\" y=\"5mm\"/><rect fill=\"brown\" height=\"5mm\" opacity=\"0.5\" width=\"1.84mm\" x=\"39.98mm\" y=\"5mm\"/><rect fill=\"pink\" height=\"5mm\" opacity=\"0.5\" width=\"1.66mm\" x=\"43.7mm\" y=\"5mm\"/><text x=\"30mm\" y=\"4.5mm\">db domain variant: 1</text></svg>"
      ],
      "text/plain": [
       "<IPython.core.display.SVG object>"
      ]
     },
     "metadata": {},
     "output_type": "display_data"
    },
    {
     "data": {
      "image/svg+xml": [
       "<svg baseProfile=\"tiny\" height=\"10mm\" version=\"1.2\" width=\"10cm\" xmlns=\"http://www.w3.org/2000/svg\" xmlns:ev=\"http://www.w3.org/2001/xml-events\" xmlns:xlink=\"http://www.w3.org/1999/xlink\"><defs/><rect fill=\"grey\" height=\"5mm\" opacity=\"0.5\" width=\"0.1mm\" x=\"25.46mm\" y=\"5mm\"/><rect fill=\"black\" height=\"5mm\" opacity=\"0.5\" width=\"0.16mm\" x=\"27.2mm\" y=\"5mm\"/><rect fill=\"grey\" height=\"5mm\" opacity=\"0.5\" width=\"0.34mm\" x=\"20.18mm\" y=\"5mm\"/><rect fill=\"black\" height=\"5mm\" opacity=\"0.5\" width=\"1.96mm\" x=\"20.72mm\" y=\"5mm\"/><rect fill=\"orange\" height=\"5mm\" opacity=\"0.5\" width=\"1.84mm\" x=\"29.18mm\" y=\"5mm\"/><rect fill=\"teal\" height=\"5mm\" opacity=\"0.5\" width=\"1.84mm\" x=\"31.52mm\" y=\"5mm\"/><rect fill=\"green\" height=\"5mm\" opacity=\"0.5\" width=\"1.96mm\" x=\"33.5mm\" y=\"5mm\"/><rect fill=\"blue\" height=\"5mm\" opacity=\"0.5\" width=\"1.84mm\" x=\"35.9mm\" y=\"5mm\"/><rect fill=\"red\" height=\"5mm\" opacity=\"0.5\" width=\"1.9mm\" x=\"37.94mm\" y=\"5mm\"/><rect fill=\"brown\" height=\"5mm\" opacity=\"0.5\" width=\"1.84mm\" x=\"39.98mm\" y=\"5mm\"/><rect fill=\"pink\" height=\"5mm\" opacity=\"0.5\" width=\"1.66mm\" x=\"43.7mm\" y=\"5mm\"/><text x=\"30mm\" y=\"4.5mm\">db domain variant: 2</text></svg>"
      ],
      "text/plain": [
       "<IPython.core.display.SVG object>"
      ]
     },
     "metadata": {},
     "output_type": "display_data"
    },
    {
     "data": {
      "image/svg+xml": [
       "<svg baseProfile=\"tiny\" height=\"10mm\" version=\"1.2\" width=\"10cm\" xmlns=\"http://www.w3.org/2000/svg\" xmlns:ev=\"http://www.w3.org/2001/xml-events\" xmlns:xlink=\"http://www.w3.org/1999/xlink\"><defs/><rect fill=\"grey\" height=\"5mm\" opacity=\"0.5\" width=\"0.1mm\" x=\"25.46mm\" y=\"5mm\"/><rect fill=\"black\" height=\"5mm\" opacity=\"0.5\" width=\"0.16mm\" x=\"27.2mm\" y=\"5mm\"/><rect fill=\"grey\" height=\"5mm\" opacity=\"0.5\" width=\"0.34mm\" x=\"20.18mm\" y=\"5mm\"/><rect fill=\"black\" height=\"5mm\" opacity=\"0.5\" width=\"1.96mm\" x=\"20.72mm\" y=\"5mm\"/><rect fill=\"orange\" height=\"5mm\" opacity=\"0.5\" width=\"1.84mm\" x=\"29.18mm\" y=\"5mm\"/><rect fill=\"teal\" height=\"5mm\" opacity=\"0.5\" width=\"1.84mm\" x=\"31.52mm\" y=\"5mm\"/><rect fill=\"green\" height=\"5mm\" opacity=\"0.5\" width=\"1.96mm\" x=\"33.5mm\" y=\"5mm\"/><rect fill=\"blue\" height=\"5mm\" opacity=\"0.5\" width=\"1.84mm\" x=\"35.9mm\" y=\"5mm\"/><rect fill=\"red\" height=\"5mm\" opacity=\"0.5\" width=\"1.9mm\" x=\"37.94mm\" y=\"5mm\"/><rect fill=\"brown\" height=\"5mm\" opacity=\"0.5\" width=\"1.84mm\" x=\"39.98mm\" y=\"5mm\"/><rect fill=\"pink\" height=\"5mm\" opacity=\"0.5\" width=\"1.66mm\" x=\"43.7mm\" y=\"5mm\"/><text x=\"30mm\" y=\"4.5mm\">db domain variant: 3</text></svg>"
      ],
      "text/plain": [
       "<IPython.core.display.SVG object>"
      ]
     },
     "metadata": {},
     "output_type": "display_data"
    },
    {
     "data": {
      "image/svg+xml": [
       "<svg baseProfile=\"tiny\" height=\"10mm\" version=\"1.2\" width=\"12cm\" xmlns=\"http://www.w3.org/2000/svg\" xmlns:ev=\"http://www.w3.org/2001/xml-events\" xmlns:xlink=\"http://www.w3.org/1999/xlink\"><defs/><rect fill=\"grey\" height=\"5mm\" opacity=\"0.5\" width=\"1.0981827689894104mm\" x=\"0.0mm\" y=\"5mm\"/><rect fill=\"black\" height=\"5mm\" opacity=\"0.5\" width=\"1.2419924173094543mm\" x=\"15.596810040528172mm\" y=\"5mm\"/><rect fill=\"orange\" height=\"5mm\" opacity=\"0.5\" width=\"1.0720355602039504mm\" x=\"20.21179239116224mm\" y=\"5mm\"/><rect fill=\"teal\" height=\"5mm\" opacity=\"0.5\" width=\"0.5360177801019752mm\" x=\"22.86573408288665mm\" y=\"5mm\"/><rect fill=\"green\" height=\"5mm\" opacity=\"0.5\" width=\"1.2942868348803778mm\" x=\"26.59171133481501mm\" y=\"5mm\"/><rect fill=\"blue\" height=\"5mm\" opacity=\"0.5\" width=\"1.987187867695127mm\" x=\"28.82729768597202mm\" y=\"5mm\"/><rect fill=\"red\" height=\"5mm\" opacity=\"0.5\" width=\"1.3988756700222211mm\" x=\"34.34435873970454mm\" y=\"5mm\"/><rect fill=\"brown\" height=\"5mm\" opacity=\"0.5\" width=\"2.0787030984442367mm\" x=\"36.90678520067983mm\" y=\"5mm\"/><rect fill=\"pink\" height=\"5mm\" opacity=\"0.5\" width=\"1.372728461236754mm\" x=\"42.08393254020134mm\" y=\"5mm\"/><rect fill=\"yellow\" height=\"5mm\" opacity=\"0.5\" width=\"1.1243299777748703mm\" x=\"44.92090469342398mm\" y=\"5mm\"/><rect fill=\"grey\" height=\"5mm\" opacity=\"0.5\" width=\"1.817231010589623mm\" x=\"47.16956464897372mm\" y=\"5mm\"/><rect fill=\"black\" height=\"5mm\" opacity=\"0.5\" width=\"1.647274153484119mm\" x=\"50.882468296509344mm\" y=\"5mm\"/><rect fill=\"orange\" height=\"5mm\" opacity=\"0.5\" width=\"2.7454569224735295mm\" x=\"53.96783893319388mm\" y=\"5mm\"/><rect fill=\"teal\" height=\"5mm\" opacity=\"0.5\" width=\"1.856451823767813mm\" x=\"57.75918420708589mm\" y=\"5mm\"/><rect fill=\"green\" height=\"5mm\" opacity=\"0.5\" width=\"1.5034645051640751mm\" x=\"64.29598640345144mm\" y=\"5mm\"/><rect fill=\"blue\" height=\"5mm\" opacity=\"0.5\" width=\"2.7977513400444565mm\" x=\"66.75382402928487mm\" y=\"5mm\"/><rect fill=\"red\" height=\"5mm\" opacity=\"0.5\" width=\"2.222512746764295mm\" x=\"71.52568963263171mm\" y=\"5mm\"/><rect fill=\"brown\" height=\"5mm\" opacity=\"0.5\" width=\"1.3465812524513012mm\" x=\"75.303961302131mm\" y=\"5mm\"/><rect fill=\"pink\" height=\"5mm\" opacity=\"0.5\" width=\"1.987187867695127mm\" x=\"78.27166949928095mm\" y=\"5mm\"/><rect fill=\"yellow\" height=\"5mm\" opacity=\"0.5\" width=\"0.9151523074911836mm\" x=\"81.9976467512093mm\" y=\"5mm\"/><rect fill=\"grey\" height=\"5mm\" opacity=\"0.5\" width=\"2.2617335599424706mm\" x=\"85.5667407504249mm\" y=\"5mm\"/><rect fill=\"black\" height=\"5mm\" opacity=\"0.5\" width=\"10.524251536148526mm\" x=\"89.47574846385147mm\" y=\"5mm\"/><line stroke=\"green\" x1=\"0mm\" x2=\"120mm\" y1=\"7.5mm\" y2=\"7.5mm\"/><text x=\"0mm\" y=\"3mm\">46304736</text><text x=\"100mm\" y=\"3mm\">46312385</text><text x=\"30mm\" y=\"4.5mm\">db transcript id: uc008hsu.2</text></svg>"
      ],
      "text/plain": [
       "<IPython.core.display.SVG object>"
      ]
     },
     "metadata": {},
     "output_type": "display_data"
    },
    {
     "data": {
      "image/svg+xml": [
       "<svg baseProfile=\"tiny\" height=\"10mm\" version=\"1.2\" width=\"10cm\" xmlns=\"http://www.w3.org/2000/svg\" xmlns:ev=\"http://www.w3.org/2001/xml-events\" xmlns:xlink=\"http://www.w3.org/1999/xlink\"><defs/><rect fill=\"grey\" height=\"5mm\" opacity=\"0.5\" width=\"0.1mm\" x=\"25.46mm\" y=\"5mm\"/><rect fill=\"black\" height=\"5mm\" opacity=\"0.5\" width=\"0.16mm\" x=\"27.2mm\" y=\"5mm\"/><rect fill=\"grey\" height=\"5mm\" opacity=\"0.5\" width=\"0.34mm\" x=\"20.18mm\" y=\"5mm\"/><rect fill=\"black\" height=\"5mm\" opacity=\"0.5\" width=\"1.96mm\" x=\"20.72mm\" y=\"5mm\"/><rect fill=\"orange\" height=\"5mm\" opacity=\"0.5\" width=\"1.84mm\" x=\"29.18mm\" y=\"5mm\"/><rect fill=\"teal\" height=\"5mm\" opacity=\"0.5\" width=\"1.84mm\" x=\"31.52mm\" y=\"5mm\"/><rect fill=\"green\" height=\"5mm\" opacity=\"0.5\" width=\"1.96mm\" x=\"33.5mm\" y=\"5mm\"/><rect fill=\"blue\" height=\"5mm\" opacity=\"0.5\" width=\"1.84mm\" x=\"35.9mm\" y=\"5mm\"/><rect fill=\"red\" height=\"5mm\" opacity=\"0.5\" width=\"1.9mm\" x=\"37.94mm\" y=\"5mm\"/><rect fill=\"brown\" height=\"5mm\" opacity=\"0.5\" width=\"1.84mm\" x=\"39.98mm\" y=\"5mm\"/><rect fill=\"pink\" height=\"5mm\" opacity=\"0.5\" width=\"1.66mm\" x=\"43.7mm\" y=\"5mm\"/><text x=\"30mm\" y=\"4.5mm\">db domain variant: 1</text></svg>"
      ],
      "text/plain": [
       "<IPython.core.display.SVG object>"
      ]
     },
     "metadata": {},
     "output_type": "display_data"
    },
    {
     "data": {
      "image/svg+xml": [
       "<svg baseProfile=\"tiny\" height=\"10mm\" version=\"1.2\" width=\"10cm\" xmlns=\"http://www.w3.org/2000/svg\" xmlns:ev=\"http://www.w3.org/2001/xml-events\" xmlns:xlink=\"http://www.w3.org/1999/xlink\"><defs/><rect fill=\"grey\" height=\"5mm\" opacity=\"0.5\" width=\"0.1mm\" x=\"25.46mm\" y=\"5mm\"/><rect fill=\"black\" height=\"5mm\" opacity=\"0.5\" width=\"0.16mm\" x=\"27.2mm\" y=\"5mm\"/><rect fill=\"grey\" height=\"5mm\" opacity=\"0.5\" width=\"0.34mm\" x=\"20.18mm\" y=\"5mm\"/><rect fill=\"black\" height=\"5mm\" opacity=\"0.5\" width=\"1.96mm\" x=\"20.72mm\" y=\"5mm\"/><rect fill=\"orange\" height=\"5mm\" opacity=\"0.5\" width=\"1.84mm\" x=\"29.18mm\" y=\"5mm\"/><rect fill=\"teal\" height=\"5mm\" opacity=\"0.5\" width=\"1.84mm\" x=\"31.52mm\" y=\"5mm\"/><rect fill=\"green\" height=\"5mm\" opacity=\"0.5\" width=\"1.96mm\" x=\"33.5mm\" y=\"5mm\"/><rect fill=\"blue\" height=\"5mm\" opacity=\"0.5\" width=\"1.84mm\" x=\"35.9mm\" y=\"5mm\"/><rect fill=\"red\" height=\"5mm\" opacity=\"0.5\" width=\"1.9mm\" x=\"37.94mm\" y=\"5mm\"/><rect fill=\"brown\" height=\"5mm\" opacity=\"0.5\" width=\"1.84mm\" x=\"39.98mm\" y=\"5mm\"/><rect fill=\"pink\" height=\"5mm\" opacity=\"0.5\" width=\"1.66mm\" x=\"43.7mm\" y=\"5mm\"/><text x=\"30mm\" y=\"4.5mm\">db domain variant: 2</text></svg>"
      ],
      "text/plain": [
       "<IPython.core.display.SVG object>"
      ]
     },
     "metadata": {},
     "output_type": "display_data"
    },
    {
     "data": {
      "image/svg+xml": [
       "<svg baseProfile=\"tiny\" height=\"10mm\" version=\"1.2\" width=\"10cm\" xmlns=\"http://www.w3.org/2000/svg\" xmlns:ev=\"http://www.w3.org/2001/xml-events\" xmlns:xlink=\"http://www.w3.org/1999/xlink\"><defs/><rect fill=\"grey\" height=\"5mm\" opacity=\"0.5\" width=\"0.1mm\" x=\"25.46mm\" y=\"5mm\"/><rect fill=\"black\" height=\"5mm\" opacity=\"0.5\" width=\"0.16mm\" x=\"27.2mm\" y=\"5mm\"/><rect fill=\"grey\" height=\"5mm\" opacity=\"0.5\" width=\"0.34mm\" x=\"20.18mm\" y=\"5mm\"/><rect fill=\"black\" height=\"5mm\" opacity=\"0.5\" width=\"1.96mm\" x=\"20.72mm\" y=\"5mm\"/><rect fill=\"orange\" height=\"5mm\" opacity=\"0.5\" width=\"1.84mm\" x=\"29.18mm\" y=\"5mm\"/><rect fill=\"teal\" height=\"5mm\" opacity=\"0.5\" width=\"1.84mm\" x=\"31.52mm\" y=\"5mm\"/><rect fill=\"green\" height=\"5mm\" opacity=\"0.5\" width=\"1.96mm\" x=\"33.5mm\" y=\"5mm\"/><rect fill=\"blue\" height=\"5mm\" opacity=\"0.5\" width=\"1.84mm\" x=\"35.9mm\" y=\"5mm\"/><rect fill=\"red\" height=\"5mm\" opacity=\"0.5\" width=\"1.9mm\" x=\"37.94mm\" y=\"5mm\"/><rect fill=\"brown\" height=\"5mm\" opacity=\"0.5\" width=\"1.84mm\" x=\"39.98mm\" y=\"5mm\"/><rect fill=\"pink\" height=\"5mm\" opacity=\"0.5\" width=\"1.66mm\" x=\"43.7mm\" y=\"5mm\"/><text x=\"30mm\" y=\"4.5mm\">db domain variant: 3</text></svg>"
      ],
      "text/plain": [
       "<IPython.core.display.SVG object>"
      ]
     },
     "metadata": {},
     "output_type": "display_data"
    },
    {
     "data": {
      "image/svg+xml": [
       "<svg baseProfile=\"tiny\" height=\"10mm\" version=\"1.2\" width=\"12cm\" xmlns=\"http://www.w3.org/2000/svg\" xmlns:ev=\"http://www.w3.org/2001/xml-events\" xmlns:xlink=\"http://www.w3.org/1999/xlink\"><defs/><rect fill=\"grey\" height=\"5mm\" opacity=\"0.5\" width=\"2.221917432450967mm\" x=\"0.0mm\" y=\"5mm\"/><rect fill=\"black\" height=\"5mm\" opacity=\"0.5\" width=\"1.3029762721163074mm\" x=\"15.498559868330819mm\" y=\"5mm\"/><rect fill=\"orange\" height=\"5mm\" opacity=\"0.5\" width=\"1.1246742559319678mm\" x=\"20.34014538472089mm\" y=\"5mm\"/><rect fill=\"teal\" height=\"5mm\" opacity=\"0.5\" width=\"0.5623371279659857mm\" x=\"23.124399945137842mm\" y=\"5mm\"/><rect fill=\"green\" height=\"5mm\" opacity=\"0.5\" width=\"1.3578384309422589mm\" x=\"27.033328761486764mm\" y=\"5mm\"/><rect fill=\"blue\" height=\"5mm\" opacity=\"0.5\" width=\"2.0847620353860883mm\" x=\"29.37868605129612mm\" y=\"5mm\"/><rect fill=\"red\" height=\"5mm\" opacity=\"0.5\" width=\"1.4675627485941618mm\" x=\"35.16664380743382mm\" y=\"5mm\"/><rect fill=\"brown\" height=\"5mm\" opacity=\"0.5\" width=\"2.180770813331506mm\" x=\"37.85488958990536mm\" y=\"5mm\"/><rect fill=\"pink\" height=\"5mm\" opacity=\"0.5\" width=\"1.4401316691811772mm\" x=\"43.2862433136744mm\" y=\"5mm\"/><rect fill=\"yellow\" height=\"5mm\" opacity=\"0.5\" width=\"1.1795364147579193mm\" x=\"46.26251542998217mm\" y=\"5mm\"/><rect fill=\"grey\" height=\"5mm\" opacity=\"0.5\" width=\"1.9064600192017522mm\" x=\"48.62158825949801mm\" y=\"5mm\"/><rect fill=\"black\" height=\"5mm\" opacity=\"0.5\" width=\"1.7281580030174197mm\" x=\"52.51680153614045mm\" y=\"5mm\"/><rect fill=\"orange\" height=\"5mm\" opacity=\"0.5\" width=\"2.8802633383623686mm\" x=\"55.75366890687149mm\" y=\"5mm\"/><rect fill=\"teal\" height=\"5mm\" opacity=\"0.5\" width=\"1.9476066383212256mm\" x=\"59.731175421752845mm\" y=\"5mm\"/><rect fill=\"green\" height=\"5mm\" opacity=\"0.5\" width=\"1.5772870662460576mm\" x=\"66.58894527499658mm\" y=\"5mm\"/><rect fill=\"blue\" height=\"5mm\" opacity=\"0.5\" width=\"2.9351254971883236mm\" x=\"69.1674667398162mm\" y=\"5mm\"/><rect fill=\"red\" height=\"5mm\" opacity=\"0.5\" width=\"2.331641750102861mm\" x=\"74.17363873268414mm\" y=\"5mm\"/><rect fill=\"brown\" height=\"5mm\" opacity=\"0.5\" width=\"1.4127005897681926mm\" x=\"78.13742970785901mm\" y=\"5mm\"/><rect fill=\"pink\" height=\"5mm\" opacity=\"0.5\" width=\"2.084762035386092mm\" x=\"81.25085722123166mm\" y=\"5mm\"/><rect fill=\"yellow\" height=\"5mm\" opacity=\"0.5\" width=\"0.9600877794541276mm\" x=\"85.15978603758057mm\" y=\"5mm\"/><rect fill=\"grey\" height=\"5mm\" opacity=\"0.5\" width=\"2.3727883692223344mm\" x=\"88.90412837745166mm\" y=\"5mm\"/><rect fill=\"black\" height=\"5mm\" opacity=\"0.5\" width=\"1.5361404471265985mm\" x=\"93.0050747496914mm\" y=\"5mm\"/><rect fill=\"orange\" height=\"5mm\" opacity=\"0.5\" width=\"4.361541626663012mm\" x=\"95.63845837333699mm\" y=\"5mm\"/><line stroke=\"green\" x1=\"0mm\" x2=\"120mm\" y1=\"7.5mm\" y2=\"7.5mm\"/><text x=\"0mm\" y=\"3mm\">46304799</text><text x=\"100mm\" y=\"3mm\">46312090</text><text x=\"30mm\" y=\"4.5mm\">db transcript id: uc008hsv.1</text></svg>"
      ],
      "text/plain": [
       "<IPython.core.display.SVG object>"
      ]
     },
     "metadata": {},
     "output_type": "display_data"
    },
    {
     "data": {
      "image/svg+xml": [
       "<svg baseProfile=\"tiny\" height=\"10mm\" version=\"1.2\" width=\"10cm\" xmlns=\"http://www.w3.org/2000/svg\" xmlns:ev=\"http://www.w3.org/2001/xml-events\" xmlns:xlink=\"http://www.w3.org/1999/xlink\"><defs/><rect fill=\"grey\" height=\"5mm\" opacity=\"0.5\" width=\"0.1mm\" x=\"25.46mm\" y=\"5mm\"/><rect fill=\"black\" height=\"5mm\" opacity=\"0.5\" width=\"0.16mm\" x=\"27.2mm\" y=\"5mm\"/><rect fill=\"grey\" height=\"5mm\" opacity=\"0.5\" width=\"0.34mm\" x=\"20.18mm\" y=\"5mm\"/><rect fill=\"black\" height=\"5mm\" opacity=\"0.5\" width=\"1.96mm\" x=\"20.72mm\" y=\"5mm\"/><rect fill=\"orange\" height=\"5mm\" opacity=\"0.5\" width=\"1.84mm\" x=\"29.18mm\" y=\"5mm\"/><rect fill=\"teal\" height=\"5mm\" opacity=\"0.5\" width=\"1.84mm\" x=\"31.52mm\" y=\"5mm\"/><rect fill=\"green\" height=\"5mm\" opacity=\"0.5\" width=\"1.96mm\" x=\"33.5mm\" y=\"5mm\"/><rect fill=\"blue\" height=\"5mm\" opacity=\"0.5\" width=\"1.84mm\" x=\"35.9mm\" y=\"5mm\"/><rect fill=\"red\" height=\"5mm\" opacity=\"0.5\" width=\"1.9mm\" x=\"37.94mm\" y=\"5mm\"/><rect fill=\"brown\" height=\"5mm\" opacity=\"0.5\" width=\"1.84mm\" x=\"39.98mm\" y=\"5mm\"/><rect fill=\"pink\" height=\"5mm\" opacity=\"0.5\" width=\"1.66mm\" x=\"43.7mm\" y=\"5mm\"/><text x=\"30mm\" y=\"4.5mm\">db domain variant: 1</text></svg>"
      ],
      "text/plain": [
       "<IPython.core.display.SVG object>"
      ]
     },
     "metadata": {},
     "output_type": "display_data"
    },
    {
     "data": {
      "image/svg+xml": [
       "<svg baseProfile=\"tiny\" height=\"10mm\" version=\"1.2\" width=\"10cm\" xmlns=\"http://www.w3.org/2000/svg\" xmlns:ev=\"http://www.w3.org/2001/xml-events\" xmlns:xlink=\"http://www.w3.org/1999/xlink\"><defs/><rect fill=\"grey\" height=\"5mm\" opacity=\"0.5\" width=\"0.1mm\" x=\"25.46mm\" y=\"5mm\"/><rect fill=\"black\" height=\"5mm\" opacity=\"0.5\" width=\"0.16mm\" x=\"27.2mm\" y=\"5mm\"/><rect fill=\"grey\" height=\"5mm\" opacity=\"0.5\" width=\"0.34mm\" x=\"20.18mm\" y=\"5mm\"/><rect fill=\"black\" height=\"5mm\" opacity=\"0.5\" width=\"1.96mm\" x=\"20.72mm\" y=\"5mm\"/><rect fill=\"orange\" height=\"5mm\" opacity=\"0.5\" width=\"1.84mm\" x=\"29.18mm\" y=\"5mm\"/><rect fill=\"teal\" height=\"5mm\" opacity=\"0.5\" width=\"1.84mm\" x=\"31.52mm\" y=\"5mm\"/><rect fill=\"green\" height=\"5mm\" opacity=\"0.5\" width=\"1.96mm\" x=\"33.5mm\" y=\"5mm\"/><rect fill=\"blue\" height=\"5mm\" opacity=\"0.5\" width=\"1.84mm\" x=\"35.9mm\" y=\"5mm\"/><rect fill=\"red\" height=\"5mm\" opacity=\"0.5\" width=\"1.9mm\" x=\"37.94mm\" y=\"5mm\"/><rect fill=\"brown\" height=\"5mm\" opacity=\"0.5\" width=\"1.84mm\" x=\"39.98mm\" y=\"5mm\"/><rect fill=\"pink\" height=\"5mm\" opacity=\"0.5\" width=\"1.66mm\" x=\"43.7mm\" y=\"5mm\"/><text x=\"30mm\" y=\"4.5mm\">db domain variant: 2</text></svg>"
      ],
      "text/plain": [
       "<IPython.core.display.SVG object>"
      ]
     },
     "metadata": {},
     "output_type": "display_data"
    },
    {
     "data": {
      "image/svg+xml": [
       "<svg baseProfile=\"tiny\" height=\"10mm\" version=\"1.2\" width=\"10cm\" xmlns=\"http://www.w3.org/2000/svg\" xmlns:ev=\"http://www.w3.org/2001/xml-events\" xmlns:xlink=\"http://www.w3.org/1999/xlink\"><defs/><rect fill=\"grey\" height=\"5mm\" opacity=\"0.5\" width=\"0.1mm\" x=\"25.46mm\" y=\"5mm\"/><rect fill=\"black\" height=\"5mm\" opacity=\"0.5\" width=\"0.16mm\" x=\"27.2mm\" y=\"5mm\"/><rect fill=\"grey\" height=\"5mm\" opacity=\"0.5\" width=\"0.34mm\" x=\"20.18mm\" y=\"5mm\"/><rect fill=\"black\" height=\"5mm\" opacity=\"0.5\" width=\"1.96mm\" x=\"20.72mm\" y=\"5mm\"/><rect fill=\"orange\" height=\"5mm\" opacity=\"0.5\" width=\"1.84mm\" x=\"29.18mm\" y=\"5mm\"/><rect fill=\"teal\" height=\"5mm\" opacity=\"0.5\" width=\"1.84mm\" x=\"31.52mm\" y=\"5mm\"/><rect fill=\"green\" height=\"5mm\" opacity=\"0.5\" width=\"1.96mm\" x=\"33.5mm\" y=\"5mm\"/><rect fill=\"blue\" height=\"5mm\" opacity=\"0.5\" width=\"1.84mm\" x=\"35.9mm\" y=\"5mm\"/><rect fill=\"red\" height=\"5mm\" opacity=\"0.5\" width=\"1.9mm\" x=\"37.94mm\" y=\"5mm\"/><rect fill=\"brown\" height=\"5mm\" opacity=\"0.5\" width=\"1.84mm\" x=\"39.98mm\" y=\"5mm\"/><rect fill=\"pink\" height=\"5mm\" opacity=\"0.5\" width=\"1.66mm\" x=\"43.7mm\" y=\"5mm\"/><text x=\"30mm\" y=\"4.5mm\">db domain variant: 3</text></svg>"
      ],
      "text/plain": [
       "<IPython.core.display.SVG object>"
      ]
     },
     "metadata": {},
     "output_type": "display_data"
    },
    {
     "data": {
      "image/svg+xml": [
       "<svg baseProfile=\"tiny\" height=\"10mm\" version=\"1.2\" width=\"12cm\" xmlns=\"http://www.w3.org/2000/svg\" xmlns:ev=\"http://www.w3.org/2001/xml-events\" xmlns:xlink=\"http://www.w3.org/1999/xlink\"><defs/><rect fill=\"grey\" height=\"5mm\" opacity=\"0.5\" width=\"5.159474671669793mm\" x=\"0.0mm\" y=\"5mm\"/><rect fill=\"black\" height=\"5mm\" opacity=\"0.5\" width=\"1.2820512820512828mm\" x=\"9.193245778611631mm\" y=\"5mm\"/><rect fill=\"orange\" height=\"5mm\" opacity=\"0.5\" width=\"0.6410256410256423mm\" x=\"12.367104440275172mm\" y=\"5mm\"/><rect fill=\"teal\" height=\"5mm\" opacity=\"0.5\" width=\"1.5478424015009402mm\" x=\"16.823014383989992mm\" y=\"5mm\"/><rect fill=\"green\" height=\"5mm\" opacity=\"0.5\" width=\"2.3764853033145705mm\" x=\"19.496560350218886mm\" y=\"5mm\"/><rect fill=\"blue\" height=\"5mm\" opacity=\"0.5\" width=\"1.6729205753596013mm\" x=\"26.09443402126329mm\" y=\"5mm\"/><rect fill=\"red\" height=\"5mm\" opacity=\"0.5\" width=\"2.485928705440898mm\" x=\"29.158849280800503mm\" y=\"5mm\"/><rect fill=\"brown\" height=\"5mm\" opacity=\"0.5\" width=\"1.6416510318949378mm\" x=\"35.35021888680425mm\" y=\"5mm\"/><rect fill=\"pink\" height=\"5mm\" opacity=\"0.5\" width=\"1.3445903689806116mm\" x=\"38.74296435272045mm\" y=\"5mm\"/><rect fill=\"yellow\" height=\"5mm\" opacity=\"0.5\" width=\"2.173233270794242mm\" x=\"41.43214509068168mm\" y=\"5mm\"/><rect fill=\"grey\" height=\"5mm\" opacity=\"0.5\" width=\"1.969981238273924mm\" x=\"45.872420262664164mm\" y=\"5mm\"/><rect fill=\"black\" height=\"5mm\" opacity=\"0.5\" width=\"3.2833020637898684mm\" x=\"49.56222639149468mm\" y=\"5mm\"/><rect fill=\"orange\" height=\"5mm\" opacity=\"0.5\" width=\"2.220137585991239mm\" x=\"54.09631019387117mm\" y=\"5mm\"/><rect fill=\"teal\" height=\"5mm\" opacity=\"0.5\" width=\"1.7979987492182588mm\" x=\"61.91369606003752mm\" y=\"5mm\"/><rect fill=\"green\" height=\"5mm\" opacity=\"0.5\" width=\"3.3458411507191954mm\" x=\"64.85303314571608mm\" y=\"5mm\"/><rect fill=\"blue\" height=\"5mm\" opacity=\"0.5\" width=\"2.657911194496563mm\" x=\"70.55972482801751mm\" y=\"5mm\"/><rect fill=\"red\" height=\"5mm\" opacity=\"0.5\" width=\"1.6103814884302636mm\" x=\"75.07817385866167mm\" y=\"5mm\"/><rect fill=\"brown\" height=\"5mm\" opacity=\"0.5\" width=\"2.376485303314581mm\" x=\"78.62726704190118mm\" y=\"5mm\"/><rect fill=\"pink\" height=\"5mm\" opacity=\"0.5\" width=\"1.0944340212632824mm\" x=\"83.08317698561602mm\" y=\"5mm\"/><rect fill=\"yellow\" height=\"5mm\" opacity=\"0.5\" width=\"2.70481550969356mm\" x=\"87.35146966854283mm\" y=\"5mm\"/><rect fill=\"grey\" height=\"5mm\" opacity=\"0.5\" width=\"1.7510944340212689mm\" x=\"92.02626641651031mm\" y=\"5mm\"/><rect fill=\"black\" height=\"5mm\" opacity=\"0.5\" width=\"4.971857410881796mm\" x=\"95.0281425891182mm\" y=\"5mm\"/><line stroke=\"green\" x1=\"0mm\" x2=\"120mm\" y1=\"7.5mm\" y2=\"7.5mm\"/><text x=\"0mm\" y=\"3mm\">46305694</text><text x=\"100mm\" y=\"3mm\">46312090</text><text x=\"30mm\" y=\"4.5mm\">db transcript id: uc008hsx.2</text></svg>"
      ],
      "text/plain": [
       "<IPython.core.display.SVG object>"
      ]
     },
     "metadata": {},
     "output_type": "display_data"
    },
    {
     "data": {
      "image/svg+xml": [
       "<svg baseProfile=\"tiny\" height=\"10mm\" version=\"1.2\" width=\"10cm\" xmlns=\"http://www.w3.org/2000/svg\" xmlns:ev=\"http://www.w3.org/2001/xml-events\" xmlns:xlink=\"http://www.w3.org/1999/xlink\"><defs/><rect fill=\"grey\" height=\"5mm\" opacity=\"0.5\" width=\"0.1mm\" x=\"25.46mm\" y=\"5mm\"/><rect fill=\"black\" height=\"5mm\" opacity=\"0.5\" width=\"0.16mm\" x=\"27.2mm\" y=\"5mm\"/><rect fill=\"grey\" height=\"5mm\" opacity=\"0.5\" width=\"0.34mm\" x=\"20.18mm\" y=\"5mm\"/><rect fill=\"black\" height=\"5mm\" opacity=\"0.5\" width=\"1.96mm\" x=\"20.72mm\" y=\"5mm\"/><rect fill=\"orange\" height=\"5mm\" opacity=\"0.5\" width=\"1.84mm\" x=\"29.18mm\" y=\"5mm\"/><rect fill=\"teal\" height=\"5mm\" opacity=\"0.5\" width=\"1.84mm\" x=\"31.52mm\" y=\"5mm\"/><rect fill=\"green\" height=\"5mm\" opacity=\"0.5\" width=\"1.96mm\" x=\"33.5mm\" y=\"5mm\"/><rect fill=\"blue\" height=\"5mm\" opacity=\"0.5\" width=\"1.84mm\" x=\"35.9mm\" y=\"5mm\"/><rect fill=\"red\" height=\"5mm\" opacity=\"0.5\" width=\"1.9mm\" x=\"37.94mm\" y=\"5mm\"/><rect fill=\"brown\" height=\"5mm\" opacity=\"0.5\" width=\"1.84mm\" x=\"39.98mm\" y=\"5mm\"/><rect fill=\"pink\" height=\"5mm\" opacity=\"0.5\" width=\"1.66mm\" x=\"43.7mm\" y=\"5mm\"/><text x=\"30mm\" y=\"4.5mm\">db domain variant: 1</text></svg>"
      ],
      "text/plain": [
       "<IPython.core.display.SVG object>"
      ]
     },
     "metadata": {},
     "output_type": "display_data"
    },
    {
     "data": {
      "image/svg+xml": [
       "<svg baseProfile=\"tiny\" height=\"10mm\" version=\"1.2\" width=\"10cm\" xmlns=\"http://www.w3.org/2000/svg\" xmlns:ev=\"http://www.w3.org/2001/xml-events\" xmlns:xlink=\"http://www.w3.org/1999/xlink\"><defs/><rect fill=\"grey\" height=\"5mm\" opacity=\"0.5\" width=\"0.1mm\" x=\"25.46mm\" y=\"5mm\"/><rect fill=\"black\" height=\"5mm\" opacity=\"0.5\" width=\"0.16mm\" x=\"27.2mm\" y=\"5mm\"/><rect fill=\"grey\" height=\"5mm\" opacity=\"0.5\" width=\"0.34mm\" x=\"20.18mm\" y=\"5mm\"/><rect fill=\"black\" height=\"5mm\" opacity=\"0.5\" width=\"1.96mm\" x=\"20.72mm\" y=\"5mm\"/><rect fill=\"orange\" height=\"5mm\" opacity=\"0.5\" width=\"1.84mm\" x=\"29.18mm\" y=\"5mm\"/><rect fill=\"teal\" height=\"5mm\" opacity=\"0.5\" width=\"1.84mm\" x=\"31.52mm\" y=\"5mm\"/><rect fill=\"green\" height=\"5mm\" opacity=\"0.5\" width=\"1.96mm\" x=\"33.5mm\" y=\"5mm\"/><rect fill=\"blue\" height=\"5mm\" opacity=\"0.5\" width=\"1.84mm\" x=\"35.9mm\" y=\"5mm\"/><rect fill=\"red\" height=\"5mm\" opacity=\"0.5\" width=\"1.9mm\" x=\"37.94mm\" y=\"5mm\"/><rect fill=\"brown\" height=\"5mm\" opacity=\"0.5\" width=\"1.84mm\" x=\"39.98mm\" y=\"5mm\"/><rect fill=\"pink\" height=\"5mm\" opacity=\"0.5\" width=\"1.66mm\" x=\"43.7mm\" y=\"5mm\"/><text x=\"30mm\" y=\"4.5mm\">db domain variant: 2</text></svg>"
      ],
      "text/plain": [
       "<IPython.core.display.SVG object>"
      ]
     },
     "metadata": {},
     "output_type": "display_data"
    },
    {
     "data": {
      "image/svg+xml": [
       "<svg baseProfile=\"tiny\" height=\"10mm\" version=\"1.2\" width=\"10cm\" xmlns=\"http://www.w3.org/2000/svg\" xmlns:ev=\"http://www.w3.org/2001/xml-events\" xmlns:xlink=\"http://www.w3.org/1999/xlink\"><defs/><rect fill=\"grey\" height=\"5mm\" opacity=\"0.5\" width=\"0.1mm\" x=\"25.46mm\" y=\"5mm\"/><rect fill=\"black\" height=\"5mm\" opacity=\"0.5\" width=\"0.16mm\" x=\"27.2mm\" y=\"5mm\"/><rect fill=\"grey\" height=\"5mm\" opacity=\"0.5\" width=\"0.34mm\" x=\"20.18mm\" y=\"5mm\"/><rect fill=\"black\" height=\"5mm\" opacity=\"0.5\" width=\"1.96mm\" x=\"20.72mm\" y=\"5mm\"/><rect fill=\"orange\" height=\"5mm\" opacity=\"0.5\" width=\"1.84mm\" x=\"29.18mm\" y=\"5mm\"/><rect fill=\"teal\" height=\"5mm\" opacity=\"0.5\" width=\"1.84mm\" x=\"31.52mm\" y=\"5mm\"/><rect fill=\"green\" height=\"5mm\" opacity=\"0.5\" width=\"1.96mm\" x=\"33.5mm\" y=\"5mm\"/><rect fill=\"blue\" height=\"5mm\" opacity=\"0.5\" width=\"1.84mm\" x=\"35.9mm\" y=\"5mm\"/><rect fill=\"red\" height=\"5mm\" opacity=\"0.5\" width=\"1.9mm\" x=\"37.94mm\" y=\"5mm\"/><rect fill=\"brown\" height=\"5mm\" opacity=\"0.5\" width=\"1.84mm\" x=\"39.98mm\" y=\"5mm\"/><rect fill=\"pink\" height=\"5mm\" opacity=\"0.5\" width=\"1.66mm\" x=\"43.7mm\" y=\"5mm\"/><text x=\"30mm\" y=\"4.5mm\">db domain variant: 3</text></svg>"
      ],
      "text/plain": [
       "<IPython.core.display.SVG object>"
      ]
     },
     "metadata": {},
     "output_type": "display_data"
    },
    {
     "data": {
      "image/svg+xml": [
       "<svg baseProfile=\"tiny\" height=\"10mm\" version=\"1.2\" width=\"12cm\" xmlns=\"http://www.w3.org/2000/svg\" xmlns:ev=\"http://www.w3.org/2001/xml-events\" xmlns:xlink=\"http://www.w3.org/1999/xlink\"><defs/><rect fill=\"grey\" height=\"5mm\" opacity=\"0.5\" width=\"1.541957474435968mm\" x=\"0.0mm\" y=\"5mm\"/><rect fill=\"black\" height=\"5mm\" opacity=\"0.5\" width=\"1.3309527674078891mm\" x=\"5.72958935237786mm\" y=\"5mm\"/><rect fill=\"orange\" height=\"5mm\" opacity=\"0.5\" width=\"0.665476383703945mm\" x=\"9.024509008277876mm\" y=\"5mm\"/><rect fill=\"teal\" height=\"5mm\" opacity=\"0.5\" width=\"1.6068819996753767mm\" x=\"13.650381431585782mm\" y=\"5mm\"/><rect fill=\"green\" height=\"5mm\" opacity=\"0.5\" width=\"2.46713195909755mm\" x=\"16.425904885570525mm\" y=\"5mm\"/><rect fill=\"blue\" height=\"5mm\" opacity=\"0.5\" width=\"1.736731050154198mm\" x=\"23.275442298328194mm\" y=\"5mm\"/><rect fill=\"red\" height=\"5mm\" opacity=\"0.5\" width=\"2.580749878266513mm\" x=\"26.456744035059245mm\" y=\"5mm\"/><rect fill=\"brown\" height=\"5mm\" opacity=\"0.5\" width=\"1.7042687875344953mm\" x=\"32.88427203376075mm\" y=\"5mm\"/><rect fill=\"pink\" height=\"5mm\" opacity=\"0.5\" width=\"1.3958772926472989mm\" x=\"36.4064275279987mm\" y=\"5mm\"/><rect fill=\"yellow\" height=\"5mm\" opacity=\"0.5\" width=\"2.2561272520694757mm\" x=\"39.19818211329329mm\" y=\"5mm\"/><rect fill=\"grey\" height=\"5mm\" opacity=\"0.5\" width=\"2.0451225450413943mm\" x=\"43.807823405291344mm\" y=\"5mm\"/><rect fill=\"black\" height=\"5mm\" opacity=\"0.5\" width=\"3.4085375750689835mm\" x=\"47.63837039441649mm\" y=\"5mm\"/><rect fill=\"orange\" height=\"5mm\" opacity=\"0.5\" width=\"2.3048206459990297mm\" x=\"52.34539847427365mm\" y=\"5mm\"/><rect fill=\"teal\" height=\"5mm\" opacity=\"0.5\" width=\"1.8665801006330227mm\" x=\"60.4609641291998mm\" y=\"5mm\"/><rect fill=\"green\" height=\"5mm\" opacity=\"0.5\" width=\"3.473462100308403mm\" x=\"63.512416815452035mm\" y=\"5mm\"/><rect fill=\"blue\" height=\"5mm\" opacity=\"0.5\" width=\"2.759292322674881mm\" x=\"69.43677974354813mm\" y=\"5mm\"/><rect fill=\"red\" height=\"5mm\" opacity=\"0.5\" width=\"1.6718065249147855mm\" x=\"74.12757669209545mm\" y=\"5mm\"/><rect fill=\"brown\" height=\"5mm\" opacity=\"0.5\" width=\"2.467131959097543mm\" x=\"77.81204349943192mm\" y=\"5mm\"/><rect fill=\"pink\" height=\"5mm\" opacity=\"0.5\" width=\"1.1361791916896635mm\" x=\"82.43791592273982mm\" y=\"5mm\"/><rect fill=\"yellow\" height=\"5mm\" opacity=\"0.5\" width=\"2.8079857166044633mm\" x=\"86.86901477032949mm\" y=\"5mm\"/><rect fill=\"grey\" height=\"5mm\" opacity=\"0.5\" width=\"1.8178867067034616mm\" x=\"91.72212303197533mm\" y=\"5mm\"/><rect fill=\"black\" height=\"5mm\" opacity=\"0.5\" width=\"5.210193150462587mm\" x=\"94.78980684953741mm\" y=\"5mm\"/><line stroke=\"green\" x1=\"0mm\" x2=\"120mm\" y1=\"7.5mm\" y2=\"7.5mm\"/><text x=\"0mm\" y=\"3mm\">46305929</text><text x=\"100mm\" y=\"3mm\">46312090</text><text x=\"30mm\" y=\"4.5mm\">db transcript id: uc008hsy.2</text></svg>"
      ],
      "text/plain": [
       "<IPython.core.display.SVG object>"
      ]
     },
     "metadata": {},
     "output_type": "display_data"
    },
    {
     "data": {
      "image/svg+xml": [
       "<svg baseProfile=\"tiny\" height=\"10mm\" version=\"1.2\" width=\"10cm\" xmlns=\"http://www.w3.org/2000/svg\" xmlns:ev=\"http://www.w3.org/2001/xml-events\" xmlns:xlink=\"http://www.w3.org/1999/xlink\"><defs/><rect fill=\"grey\" height=\"5mm\" opacity=\"0.5\" width=\"0.1mm\" x=\"25.46mm\" y=\"5mm\"/><rect fill=\"black\" height=\"5mm\" opacity=\"0.5\" width=\"0.16mm\" x=\"27.2mm\" y=\"5mm\"/><rect fill=\"grey\" height=\"5mm\" opacity=\"0.5\" width=\"0.34mm\" x=\"20.18mm\" y=\"5mm\"/><rect fill=\"black\" height=\"5mm\" opacity=\"0.5\" width=\"1.96mm\" x=\"20.72mm\" y=\"5mm\"/><rect fill=\"orange\" height=\"5mm\" opacity=\"0.5\" width=\"1.84mm\" x=\"29.18mm\" y=\"5mm\"/><rect fill=\"teal\" height=\"5mm\" opacity=\"0.5\" width=\"1.84mm\" x=\"31.52mm\" y=\"5mm\"/><rect fill=\"green\" height=\"5mm\" opacity=\"0.5\" width=\"1.96mm\" x=\"33.5mm\" y=\"5mm\"/><rect fill=\"blue\" height=\"5mm\" opacity=\"0.5\" width=\"1.84mm\" x=\"35.9mm\" y=\"5mm\"/><rect fill=\"red\" height=\"5mm\" opacity=\"0.5\" width=\"1.9mm\" x=\"37.94mm\" y=\"5mm\"/><rect fill=\"brown\" height=\"5mm\" opacity=\"0.5\" width=\"1.84mm\" x=\"39.98mm\" y=\"5mm\"/><rect fill=\"pink\" height=\"5mm\" opacity=\"0.5\" width=\"1.66mm\" x=\"43.7mm\" y=\"5mm\"/><text x=\"30mm\" y=\"4.5mm\">db domain variant: 1</text></svg>"
      ],
      "text/plain": [
       "<IPython.core.display.SVG object>"
      ]
     },
     "metadata": {},
     "output_type": "display_data"
    },
    {
     "data": {
      "image/svg+xml": [
       "<svg baseProfile=\"tiny\" height=\"10mm\" version=\"1.2\" width=\"10cm\" xmlns=\"http://www.w3.org/2000/svg\" xmlns:ev=\"http://www.w3.org/2001/xml-events\" xmlns:xlink=\"http://www.w3.org/1999/xlink\"><defs/><rect fill=\"grey\" height=\"5mm\" opacity=\"0.5\" width=\"0.1mm\" x=\"25.46mm\" y=\"5mm\"/><rect fill=\"black\" height=\"5mm\" opacity=\"0.5\" width=\"0.16mm\" x=\"27.2mm\" y=\"5mm\"/><rect fill=\"grey\" height=\"5mm\" opacity=\"0.5\" width=\"0.34mm\" x=\"20.18mm\" y=\"5mm\"/><rect fill=\"black\" height=\"5mm\" opacity=\"0.5\" width=\"1.96mm\" x=\"20.72mm\" y=\"5mm\"/><rect fill=\"orange\" height=\"5mm\" opacity=\"0.5\" width=\"1.84mm\" x=\"29.18mm\" y=\"5mm\"/><rect fill=\"teal\" height=\"5mm\" opacity=\"0.5\" width=\"1.84mm\" x=\"31.52mm\" y=\"5mm\"/><rect fill=\"green\" height=\"5mm\" opacity=\"0.5\" width=\"1.96mm\" x=\"33.5mm\" y=\"5mm\"/><rect fill=\"blue\" height=\"5mm\" opacity=\"0.5\" width=\"1.84mm\" x=\"35.9mm\" y=\"5mm\"/><rect fill=\"red\" height=\"5mm\" opacity=\"0.5\" width=\"1.9mm\" x=\"37.94mm\" y=\"5mm\"/><rect fill=\"brown\" height=\"5mm\" opacity=\"0.5\" width=\"1.84mm\" x=\"39.98mm\" y=\"5mm\"/><rect fill=\"pink\" height=\"5mm\" opacity=\"0.5\" width=\"1.66mm\" x=\"43.7mm\" y=\"5mm\"/><text x=\"30mm\" y=\"4.5mm\">db domain variant: 2</text></svg>"
      ],
      "text/plain": [
       "<IPython.core.display.SVG object>"
      ]
     },
     "metadata": {},
     "output_type": "display_data"
    },
    {
     "data": {
      "image/svg+xml": [
       "<svg baseProfile=\"tiny\" height=\"10mm\" version=\"1.2\" width=\"10cm\" xmlns=\"http://www.w3.org/2000/svg\" xmlns:ev=\"http://www.w3.org/2001/xml-events\" xmlns:xlink=\"http://www.w3.org/1999/xlink\"><defs/><rect fill=\"grey\" height=\"5mm\" opacity=\"0.5\" width=\"0.1mm\" x=\"25.46mm\" y=\"5mm\"/><rect fill=\"black\" height=\"5mm\" opacity=\"0.5\" width=\"0.16mm\" x=\"27.2mm\" y=\"5mm\"/><rect fill=\"grey\" height=\"5mm\" opacity=\"0.5\" width=\"0.34mm\" x=\"20.18mm\" y=\"5mm\"/><rect fill=\"black\" height=\"5mm\" opacity=\"0.5\" width=\"1.96mm\" x=\"20.72mm\" y=\"5mm\"/><rect fill=\"orange\" height=\"5mm\" opacity=\"0.5\" width=\"1.84mm\" x=\"29.18mm\" y=\"5mm\"/><rect fill=\"teal\" height=\"5mm\" opacity=\"0.5\" width=\"1.84mm\" x=\"31.52mm\" y=\"5mm\"/><rect fill=\"green\" height=\"5mm\" opacity=\"0.5\" width=\"1.96mm\" x=\"33.5mm\" y=\"5mm\"/><rect fill=\"blue\" height=\"5mm\" opacity=\"0.5\" width=\"1.84mm\" x=\"35.9mm\" y=\"5mm\"/><rect fill=\"red\" height=\"5mm\" opacity=\"0.5\" width=\"1.9mm\" x=\"37.94mm\" y=\"5mm\"/><rect fill=\"brown\" height=\"5mm\" opacity=\"0.5\" width=\"1.84mm\" x=\"39.98mm\" y=\"5mm\"/><rect fill=\"pink\" height=\"5mm\" opacity=\"0.5\" width=\"1.66mm\" x=\"43.7mm\" y=\"5mm\"/><text x=\"30mm\" y=\"4.5mm\">db domain variant: 3</text></svg>"
      ],
      "text/plain": [
       "<IPython.core.display.SVG object>"
      ]
     },
     "metadata": {},
     "output_type": "display_data"
    },
    {
     "data": {
      "image/svg+xml": [
       "<svg baseProfile=\"tiny\" height=\"10mm\" version=\"1.2\" width=\"12cm\" xmlns=\"http://www.w3.org/2000/svg\" xmlns:ev=\"http://www.w3.org/2001/xml-events\" xmlns:xlink=\"http://www.w3.org/1999/xlink\"><defs/><rect fill=\"grey\" height=\"5mm\" opacity=\"0.5\" width=\"1.541957474435968mm\" x=\"0.0mm\" y=\"5mm\"/><rect fill=\"black\" height=\"5mm\" opacity=\"0.5\" width=\"3.9603960396039612mm\" x=\"5.72958935237786mm\" y=\"5mm\"/><rect fill=\"orange\" height=\"5mm\" opacity=\"0.5\" width=\"1.6068819996753767mm\" x=\"13.650381431585782mm\" y=\"5mm\"/><rect fill=\"teal\" height=\"5mm\" opacity=\"0.5\" width=\"2.46713195909755mm\" x=\"16.425904885570525mm\" y=\"5mm\"/><rect fill=\"green\" height=\"5mm\" opacity=\"0.5\" width=\"1.736731050154198mm\" x=\"23.275442298328194mm\" y=\"5mm\"/><rect fill=\"blue\" height=\"5mm\" opacity=\"0.5\" width=\"2.580749878266513mm\" x=\"26.456744035059245mm\" y=\"5mm\"/><rect fill=\"red\" height=\"5mm\" opacity=\"0.5\" width=\"1.7042687875344953mm\" x=\"32.88427203376075mm\" y=\"5mm\"/><rect fill=\"brown\" height=\"5mm\" opacity=\"0.5\" width=\"1.3958772926472989mm\" x=\"36.4064275279987mm\" y=\"5mm\"/><rect fill=\"pink\" height=\"5mm\" opacity=\"0.5\" width=\"2.2561272520694757mm\" x=\"39.19818211329329mm\" y=\"5mm\"/><rect fill=\"yellow\" height=\"5mm\" opacity=\"0.5\" width=\"2.0451225450413943mm\" x=\"43.807823405291344mm\" y=\"5mm\"/><rect fill=\"grey\" height=\"5mm\" opacity=\"0.5\" width=\"3.4085375750689835mm\" x=\"47.63837039441649mm\" y=\"5mm\"/><rect fill=\"black\" height=\"5mm\" opacity=\"0.5\" width=\"2.3048206459990297mm\" x=\"52.34539847427365mm\" y=\"5mm\"/><rect fill=\"orange\" height=\"5mm\" opacity=\"0.5\" width=\"1.8665801006330227mm\" x=\"60.4609641291998mm\" y=\"5mm\"/><rect fill=\"teal\" height=\"5mm\" opacity=\"0.5\" width=\"3.473462100308403mm\" x=\"63.512416815452035mm\" y=\"5mm\"/><rect fill=\"green\" height=\"5mm\" opacity=\"0.5\" width=\"2.759292322674881mm\" x=\"69.43677974354813mm\" y=\"5mm\"/><rect fill=\"blue\" height=\"5mm\" opacity=\"0.5\" width=\"1.6718065249147855mm\" x=\"74.12757669209545mm\" y=\"5mm\"/><rect fill=\"red\" height=\"5mm\" opacity=\"0.5\" width=\"2.467131959097543mm\" x=\"77.81204349943192mm\" y=\"5mm\"/><rect fill=\"brown\" height=\"5mm\" opacity=\"0.5\" width=\"1.1361791916896635mm\" x=\"82.43791592273982mm\" y=\"5mm\"/><rect fill=\"pink\" height=\"5mm\" opacity=\"0.5\" width=\"2.8079857166044633mm\" x=\"86.86901477032949mm\" y=\"5mm\"/><rect fill=\"yellow\" height=\"5mm\" opacity=\"0.5\" width=\"1.8178867067034616mm\" x=\"91.72212303197533mm\" y=\"5mm\"/><rect fill=\"grey\" height=\"5mm\" opacity=\"0.5\" width=\"5.161499756533033mm\" x=\"94.83850024346697mm\" y=\"5mm\"/><line stroke=\"green\" x1=\"0mm\" x2=\"120mm\" y1=\"7.5mm\" y2=\"7.5mm\"/><text x=\"0mm\" y=\"3mm\">46305929</text><text x=\"100mm\" y=\"3mm\">46312090</text><text x=\"30mm\" y=\"4.5mm\">db transcript id: uc008hsz.1</text></svg>"
      ],
      "text/plain": [
       "<IPython.core.display.SVG object>"
      ]
     },
     "metadata": {},
     "output_type": "display_data"
    },
    {
     "data": {
      "image/svg+xml": [
       "<svg baseProfile=\"tiny\" height=\"10mm\" version=\"1.2\" width=\"10cm\" xmlns=\"http://www.w3.org/2000/svg\" xmlns:ev=\"http://www.w3.org/2001/xml-events\" xmlns:xlink=\"http://www.w3.org/1999/xlink\"><defs/><rect fill=\"grey\" height=\"5mm\" opacity=\"0.5\" width=\"0.1mm\" x=\"25.46mm\" y=\"5mm\"/><rect fill=\"black\" height=\"5mm\" opacity=\"0.5\" width=\"0.16mm\" x=\"27.2mm\" y=\"5mm\"/><rect fill=\"grey\" height=\"5mm\" opacity=\"0.5\" width=\"0.34mm\" x=\"20.18mm\" y=\"5mm\"/><rect fill=\"black\" height=\"5mm\" opacity=\"0.5\" width=\"1.96mm\" x=\"20.72mm\" y=\"5mm\"/><rect fill=\"orange\" height=\"5mm\" opacity=\"0.5\" width=\"1.84mm\" x=\"29.18mm\" y=\"5mm\"/><rect fill=\"teal\" height=\"5mm\" opacity=\"0.5\" width=\"1.84mm\" x=\"31.52mm\" y=\"5mm\"/><rect fill=\"green\" height=\"5mm\" opacity=\"0.5\" width=\"1.96mm\" x=\"33.5mm\" y=\"5mm\"/><rect fill=\"blue\" height=\"5mm\" opacity=\"0.5\" width=\"1.84mm\" x=\"35.9mm\" y=\"5mm\"/><rect fill=\"red\" height=\"5mm\" opacity=\"0.5\" width=\"1.9mm\" x=\"37.94mm\" y=\"5mm\"/><rect fill=\"brown\" height=\"5mm\" opacity=\"0.5\" width=\"1.84mm\" x=\"39.98mm\" y=\"5mm\"/><rect fill=\"pink\" height=\"5mm\" opacity=\"0.5\" width=\"1.66mm\" x=\"43.7mm\" y=\"5mm\"/><text x=\"30mm\" y=\"4.5mm\">db domain variant: 1</text></svg>"
      ],
      "text/plain": [
       "<IPython.core.display.SVG object>"
      ]
     },
     "metadata": {},
     "output_type": "display_data"
    },
    {
     "data": {
      "image/svg+xml": [
       "<svg baseProfile=\"tiny\" height=\"10mm\" version=\"1.2\" width=\"10cm\" xmlns=\"http://www.w3.org/2000/svg\" xmlns:ev=\"http://www.w3.org/2001/xml-events\" xmlns:xlink=\"http://www.w3.org/1999/xlink\"><defs/><rect fill=\"grey\" height=\"5mm\" opacity=\"0.5\" width=\"0.1mm\" x=\"25.46mm\" y=\"5mm\"/><rect fill=\"black\" height=\"5mm\" opacity=\"0.5\" width=\"0.16mm\" x=\"27.2mm\" y=\"5mm\"/><rect fill=\"grey\" height=\"5mm\" opacity=\"0.5\" width=\"0.34mm\" x=\"20.18mm\" y=\"5mm\"/><rect fill=\"black\" height=\"5mm\" opacity=\"0.5\" width=\"1.96mm\" x=\"20.72mm\" y=\"5mm\"/><rect fill=\"orange\" height=\"5mm\" opacity=\"0.5\" width=\"1.84mm\" x=\"29.18mm\" y=\"5mm\"/><rect fill=\"teal\" height=\"5mm\" opacity=\"0.5\" width=\"1.84mm\" x=\"31.52mm\" y=\"5mm\"/><rect fill=\"green\" height=\"5mm\" opacity=\"0.5\" width=\"1.96mm\" x=\"33.5mm\" y=\"5mm\"/><rect fill=\"blue\" height=\"5mm\" opacity=\"0.5\" width=\"1.84mm\" x=\"35.9mm\" y=\"5mm\"/><rect fill=\"red\" height=\"5mm\" opacity=\"0.5\" width=\"1.9mm\" x=\"37.94mm\" y=\"5mm\"/><rect fill=\"brown\" height=\"5mm\" opacity=\"0.5\" width=\"1.84mm\" x=\"39.98mm\" y=\"5mm\"/><rect fill=\"pink\" height=\"5mm\" opacity=\"0.5\" width=\"1.66mm\" x=\"43.7mm\" y=\"5mm\"/><text x=\"30mm\" y=\"4.5mm\">db domain variant: 2</text></svg>"
      ],
      "text/plain": [
       "<IPython.core.display.SVG object>"
      ]
     },
     "metadata": {},
     "output_type": "display_data"
    },
    {
     "data": {
      "image/svg+xml": [
       "<svg baseProfile=\"tiny\" height=\"10mm\" version=\"1.2\" width=\"10cm\" xmlns=\"http://www.w3.org/2000/svg\" xmlns:ev=\"http://www.w3.org/2001/xml-events\" xmlns:xlink=\"http://www.w3.org/1999/xlink\"><defs/><rect fill=\"grey\" height=\"5mm\" opacity=\"0.5\" width=\"0.1mm\" x=\"25.46mm\" y=\"5mm\"/><rect fill=\"black\" height=\"5mm\" opacity=\"0.5\" width=\"0.16mm\" x=\"27.2mm\" y=\"5mm\"/><rect fill=\"grey\" height=\"5mm\" opacity=\"0.5\" width=\"0.34mm\" x=\"20.18mm\" y=\"5mm\"/><rect fill=\"black\" height=\"5mm\" opacity=\"0.5\" width=\"1.96mm\" x=\"20.72mm\" y=\"5mm\"/><rect fill=\"orange\" height=\"5mm\" opacity=\"0.5\" width=\"1.84mm\" x=\"29.18mm\" y=\"5mm\"/><rect fill=\"teal\" height=\"5mm\" opacity=\"0.5\" width=\"1.84mm\" x=\"31.52mm\" y=\"5mm\"/><rect fill=\"green\" height=\"5mm\" opacity=\"0.5\" width=\"1.96mm\" x=\"33.5mm\" y=\"5mm\"/><rect fill=\"blue\" height=\"5mm\" opacity=\"0.5\" width=\"1.84mm\" x=\"35.9mm\" y=\"5mm\"/><rect fill=\"red\" height=\"5mm\" opacity=\"0.5\" width=\"1.9mm\" x=\"37.94mm\" y=\"5mm\"/><rect fill=\"brown\" height=\"5mm\" opacity=\"0.5\" width=\"1.84mm\" x=\"39.98mm\" y=\"5mm\"/><rect fill=\"pink\" height=\"5mm\" opacity=\"0.5\" width=\"1.66mm\" x=\"43.7mm\" y=\"5mm\"/><text x=\"30mm\" y=\"4.5mm\">db domain variant: 3</text></svg>"
      ],
      "text/plain": [
       "<IPython.core.display.SVG object>"
      ]
     },
     "metadata": {},
     "output_type": "display_data"
    },
    {
     "data": {
      "image/svg+xml": [
       "<svg baseProfile=\"tiny\" height=\"10mm\" version=\"1.2\" width=\"12cm\" xmlns=\"http://www.w3.org/2000/svg\" xmlns:ev=\"http://www.w3.org/2001/xml-events\" xmlns:xlink=\"http://www.w3.org/1999/xlink\"><defs/><rect fill=\"grey\" height=\"5mm\" opacity=\"0.5\" width=\"1.541957474435968mm\" x=\"0.0mm\" y=\"5mm\"/><rect fill=\"black\" height=\"5mm\" opacity=\"0.5\" width=\"1.3309527674078891mm\" x=\"5.72958935237786mm\" y=\"5mm\"/><rect fill=\"orange\" height=\"5mm\" opacity=\"0.5\" width=\"0.665476383703945mm\" x=\"9.024509008277876mm\" y=\"5mm\"/><rect fill=\"teal\" height=\"5mm\" opacity=\"0.5\" width=\"1.6068819996753767mm\" x=\"13.650381431585782mm\" y=\"5mm\"/><rect fill=\"green\" height=\"5mm\" opacity=\"0.5\" width=\"2.46713195909755mm\" x=\"16.425904885570525mm\" y=\"5mm\"/><rect fill=\"blue\" height=\"5mm\" opacity=\"0.5\" width=\"1.736731050154198mm\" x=\"23.275442298328194mm\" y=\"5mm\"/><rect fill=\"red\" height=\"5mm\" opacity=\"0.5\" width=\"2.580749878266513mm\" x=\"26.456744035059245mm\" y=\"5mm\"/><rect fill=\"brown\" height=\"5mm\" opacity=\"0.5\" width=\"1.7042687875344953mm\" x=\"32.88427203376075mm\" y=\"5mm\"/><rect fill=\"pink\" height=\"5mm\" opacity=\"0.5\" width=\"1.3958772926472989mm\" x=\"36.4064275279987mm\" y=\"5mm\"/><rect fill=\"yellow\" height=\"5mm\" opacity=\"0.5\" width=\"2.2561272520694757mm\" x=\"39.19818211329329mm\" y=\"5mm\"/><rect fill=\"grey\" height=\"5mm\" opacity=\"0.5\" width=\"2.0451225450413943mm\" x=\"43.807823405291344mm\" y=\"5mm\"/><rect fill=\"black\" height=\"5mm\" opacity=\"0.5\" width=\"3.4085375750689835mm\" x=\"47.63837039441649mm\" y=\"5mm\"/><rect fill=\"orange\" height=\"5mm\" opacity=\"0.5\" width=\"2.3048206459990297mm\" x=\"52.34539847427365mm\" y=\"5mm\"/><rect fill=\"teal\" height=\"5mm\" opacity=\"0.5\" width=\"1.8665801006330227mm\" x=\"60.4609641291998mm\" y=\"5mm\"/><rect fill=\"green\" height=\"5mm\" opacity=\"0.5\" width=\"3.473462100308403mm\" x=\"63.512416815452035mm\" y=\"5mm\"/><rect fill=\"blue\" height=\"5mm\" opacity=\"0.5\" width=\"2.759292322674881mm\" x=\"69.43677974354813mm\" y=\"5mm\"/><rect fill=\"red\" height=\"5mm\" opacity=\"0.5\" width=\"1.6718065249147855mm\" x=\"74.12757669209545mm\" y=\"5mm\"/><rect fill=\"brown\" height=\"5mm\" opacity=\"0.5\" width=\"2.467131959097543mm\" x=\"77.81204349943192mm\" y=\"5mm\"/><rect fill=\"pink\" height=\"5mm\" opacity=\"0.5\" width=\"2.8079857166044633mm\" x=\"86.86901477032949mm\" y=\"5mm\"/><rect fill=\"yellow\" height=\"5mm\" opacity=\"0.5\" width=\"1.8178867067034616mm\" x=\"91.72212303197533mm\" y=\"5mm\"/><rect fill=\"grey\" height=\"5mm\" opacity=\"0.5\" width=\"5.161499756533033mm\" x=\"94.83850024346697mm\" y=\"5mm\"/><line stroke=\"green\" x1=\"0mm\" x2=\"120mm\" y1=\"7.5mm\" y2=\"7.5mm\"/><text x=\"0mm\" y=\"3mm\">46305929</text><text x=\"100mm\" y=\"3mm\">46312090</text><text x=\"30mm\" y=\"4.5mm\">db transcript id: uc008hta.1</text></svg>"
      ],
      "text/plain": [
       "<IPython.core.display.SVG object>"
      ]
     },
     "metadata": {},
     "output_type": "display_data"
    },
    {
     "data": {
      "image/svg+xml": [
       "<svg baseProfile=\"tiny\" height=\"10mm\" version=\"1.2\" width=\"10cm\" xmlns=\"http://www.w3.org/2000/svg\" xmlns:ev=\"http://www.w3.org/2001/xml-events\" xmlns:xlink=\"http://www.w3.org/1999/xlink\"><defs/><rect fill=\"grey\" height=\"5mm\" opacity=\"0.5\" width=\"0.1mm\" x=\"25.46mm\" y=\"5mm\"/><rect fill=\"black\" height=\"5mm\" opacity=\"0.5\" width=\"0.16mm\" x=\"27.2mm\" y=\"5mm\"/><rect fill=\"grey\" height=\"5mm\" opacity=\"0.5\" width=\"0.34mm\" x=\"20.18mm\" y=\"5mm\"/><rect fill=\"black\" height=\"5mm\" opacity=\"0.5\" width=\"1.96mm\" x=\"20.72mm\" y=\"5mm\"/><rect fill=\"orange\" height=\"5mm\" opacity=\"0.5\" width=\"1.84mm\" x=\"29.18mm\" y=\"5mm\"/><rect fill=\"teal\" height=\"5mm\" opacity=\"0.5\" width=\"1.84mm\" x=\"31.52mm\" y=\"5mm\"/><rect fill=\"green\" height=\"5mm\" opacity=\"0.5\" width=\"1.96mm\" x=\"33.5mm\" y=\"5mm\"/><rect fill=\"blue\" height=\"5mm\" opacity=\"0.5\" width=\"1.84mm\" x=\"35.9mm\" y=\"5mm\"/><rect fill=\"red\" height=\"5mm\" opacity=\"0.5\" width=\"1.9mm\" x=\"37.94mm\" y=\"5mm\"/><rect fill=\"brown\" height=\"5mm\" opacity=\"0.5\" width=\"1.84mm\" x=\"39.98mm\" y=\"5mm\"/><rect fill=\"pink\" height=\"5mm\" opacity=\"0.5\" width=\"1.66mm\" x=\"43.7mm\" y=\"5mm\"/><text x=\"30mm\" y=\"4.5mm\">db domain variant: 1</text></svg>"
      ],
      "text/plain": [
       "<IPython.core.display.SVG object>"
      ]
     },
     "metadata": {},
     "output_type": "display_data"
    },
    {
     "data": {
      "image/svg+xml": [
       "<svg baseProfile=\"tiny\" height=\"10mm\" version=\"1.2\" width=\"10cm\" xmlns=\"http://www.w3.org/2000/svg\" xmlns:ev=\"http://www.w3.org/2001/xml-events\" xmlns:xlink=\"http://www.w3.org/1999/xlink\"><defs/><rect fill=\"grey\" height=\"5mm\" opacity=\"0.5\" width=\"0.1mm\" x=\"25.46mm\" y=\"5mm\"/><rect fill=\"black\" height=\"5mm\" opacity=\"0.5\" width=\"0.16mm\" x=\"27.2mm\" y=\"5mm\"/><rect fill=\"grey\" height=\"5mm\" opacity=\"0.5\" width=\"0.34mm\" x=\"20.18mm\" y=\"5mm\"/><rect fill=\"black\" height=\"5mm\" opacity=\"0.5\" width=\"1.96mm\" x=\"20.72mm\" y=\"5mm\"/><rect fill=\"orange\" height=\"5mm\" opacity=\"0.5\" width=\"1.84mm\" x=\"29.18mm\" y=\"5mm\"/><rect fill=\"teal\" height=\"5mm\" opacity=\"0.5\" width=\"1.84mm\" x=\"31.52mm\" y=\"5mm\"/><rect fill=\"green\" height=\"5mm\" opacity=\"0.5\" width=\"1.96mm\" x=\"33.5mm\" y=\"5mm\"/><rect fill=\"blue\" height=\"5mm\" opacity=\"0.5\" width=\"1.84mm\" x=\"35.9mm\" y=\"5mm\"/><rect fill=\"red\" height=\"5mm\" opacity=\"0.5\" width=\"1.9mm\" x=\"37.94mm\" y=\"5mm\"/><rect fill=\"brown\" height=\"5mm\" opacity=\"0.5\" width=\"1.84mm\" x=\"39.98mm\" y=\"5mm\"/><rect fill=\"pink\" height=\"5mm\" opacity=\"0.5\" width=\"1.66mm\" x=\"43.7mm\" y=\"5mm\"/><text x=\"30mm\" y=\"4.5mm\">db domain variant: 2</text></svg>"
      ],
      "text/plain": [
       "<IPython.core.display.SVG object>"
      ]
     },
     "metadata": {},
     "output_type": "display_data"
    },
    {
     "data": {
      "image/svg+xml": [
       "<svg baseProfile=\"tiny\" height=\"10mm\" version=\"1.2\" width=\"10cm\" xmlns=\"http://www.w3.org/2000/svg\" xmlns:ev=\"http://www.w3.org/2001/xml-events\" xmlns:xlink=\"http://www.w3.org/1999/xlink\"><defs/><rect fill=\"grey\" height=\"5mm\" opacity=\"0.5\" width=\"0.1mm\" x=\"25.46mm\" y=\"5mm\"/><rect fill=\"black\" height=\"5mm\" opacity=\"0.5\" width=\"0.16mm\" x=\"27.2mm\" y=\"5mm\"/><rect fill=\"grey\" height=\"5mm\" opacity=\"0.5\" width=\"0.34mm\" x=\"20.18mm\" y=\"5mm\"/><rect fill=\"black\" height=\"5mm\" opacity=\"0.5\" width=\"1.96mm\" x=\"20.72mm\" y=\"5mm\"/><rect fill=\"orange\" height=\"5mm\" opacity=\"0.5\" width=\"1.84mm\" x=\"29.18mm\" y=\"5mm\"/><rect fill=\"teal\" height=\"5mm\" opacity=\"0.5\" width=\"1.84mm\" x=\"31.52mm\" y=\"5mm\"/><rect fill=\"green\" height=\"5mm\" opacity=\"0.5\" width=\"1.96mm\" x=\"33.5mm\" y=\"5mm\"/><rect fill=\"blue\" height=\"5mm\" opacity=\"0.5\" width=\"1.84mm\" x=\"35.9mm\" y=\"5mm\"/><rect fill=\"red\" height=\"5mm\" opacity=\"0.5\" width=\"1.9mm\" x=\"37.94mm\" y=\"5mm\"/><rect fill=\"brown\" height=\"5mm\" opacity=\"0.5\" width=\"1.84mm\" x=\"39.98mm\" y=\"5mm\"/><rect fill=\"pink\" height=\"5mm\" opacity=\"0.5\" width=\"1.66mm\" x=\"43.7mm\" y=\"5mm\"/><text x=\"30mm\" y=\"4.5mm\">db domain variant: 3</text></svg>"
      ],
      "text/plain": [
       "<IPython.core.display.SVG object>"
      ]
     },
     "metadata": {},
     "output_type": "display_data"
    },
    {
     "data": {
      "image/svg+xml": [
       "<svg baseProfile=\"tiny\" height=\"10mm\" version=\"1.2\" width=\"12cm\" xmlns=\"http://www.w3.org/2000/svg\" xmlns:ev=\"http://www.w3.org/2001/xml-events\" xmlns:xlink=\"http://www.w3.org/1999/xlink\"><defs/><rect fill=\"grey\" height=\"5mm\" opacity=\"0.5\" width=\"1.0852510460251046mm\" x=\"0.0mm\" y=\"5mm\"/><rect fill=\"black\" height=\"5mm\" opacity=\"0.5\" width=\"1.22907949790795mm\" x=\"15.598849372384937mm\" y=\"5mm\"/><rect fill=\"orange\" height=\"5mm\" opacity=\"0.5\" width=\"1.0591004184100399mm\" x=\"20.214435146443517mm\" y=\"5mm\"/><rect fill=\"teal\" height=\"5mm\" opacity=\"0.5\" width=\"0.5230125523012532mm\" x=\"22.868723849372387mm\" y=\"5mm\"/><rect fill=\"green\" height=\"5mm\" opacity=\"0.5\" width=\"1.2813807531380803mm\" x=\"26.595188284518827mm\" y=\"5mm\"/><rect fill=\"blue\" height=\"5mm\" opacity=\"0.5\" width=\"1.97437238493724mm\" x=\"28.831066945606693mm\" y=\"5mm\"/><rect fill=\"red\" height=\"5mm\" opacity=\"0.5\" width=\"1.3859832635983267mm\" x=\"34.34884937238494mm\" y=\"5mm\"/><rect fill=\"brown\" height=\"5mm\" opacity=\"0.5\" width=\"2.06589958158996mm\" x=\"36.91161087866109mm\" y=\"5mm\"/><rect fill=\"pink\" height=\"5mm\" opacity=\"0.5\" width=\"1.3598326359832598mm\" x=\"42.08943514644351mm\" y=\"5mm\"/><rect fill=\"yellow\" height=\"5mm\" opacity=\"0.5\" width=\"1.1114016736401666mm\" x=\"44.92677824267782mm\" y=\"5mm\"/><rect fill=\"grey\" height=\"5mm\" opacity=\"0.5\" width=\"1.8043933054393264mm\" x=\"47.17573221757323mm\" y=\"5mm\"/><rect fill=\"black\" height=\"5mm\" opacity=\"0.5\" width=\"1.6344142259414198mm\" x=\"50.88912133891213mm\" y=\"5mm\"/><rect fill=\"orange\" height=\"5mm\" opacity=\"0.5\" width=\"2.732740585774053mm\" x=\"53.97489539748954mm\" y=\"5mm\"/><rect fill=\"teal\" height=\"5mm\" opacity=\"0.5\" width=\"1.8436192468619268mm\" x=\"57.76673640167363mm\" y=\"5mm\"/><rect fill=\"green\" height=\"5mm\" opacity=\"0.5\" width=\"1.490585774058573mm\" x=\"64.30439330543933mm\" y=\"5mm\"/><rect fill=\"blue\" height=\"5mm\" opacity=\"0.5\" width=\"2.785041841004187mm\" x=\"66.76255230125523mm\" y=\"5mm\"/><rect fill=\"red\" height=\"5mm\" opacity=\"0.5\" width=\"2.2097280334728mm\" x=\"71.53504184100419mm\" y=\"5mm\"/><rect fill=\"brown\" height=\"5mm\" opacity=\"0.5\" width=\"1.3336820083682142mm\" x=\"75.31380753138075mm\" y=\"5mm\"/><rect fill=\"pink\" height=\"5mm\" opacity=\"0.5\" width=\"1.97437238493724mm\" x=\"78.28190376569037mm\" y=\"5mm\"/><rect fill=\"yellow\" height=\"5mm\" opacity=\"0.5\" width=\"0.9021966527196668mm\" x=\"82.00836820083683mm\" y=\"5mm\"/><rect fill=\"grey\" height=\"5mm\" opacity=\"0.5\" width=\"2.2489539748954mm\" x=\"85.57792887029288mm\" y=\"5mm\"/><rect fill=\"black\" height=\"5mm\" opacity=\"0.5\" width=\"10.512552301255226mm\" x=\"89.48744769874477mm\" y=\"5mm\"/><line stroke=\"green\" x1=\"0mm\" x2=\"120mm\" y1=\"7.5mm\" y2=\"7.5mm\"/><text x=\"0mm\" y=\"3mm\">46304737</text><text x=\"100mm\" y=\"3mm\">46312385</text><text x=\"30mm\" y=\"4.5mm\">user transcript id:uc008hsu.2</text></svg>"
      ],
      "text/plain": [
       "<IPython.core.display.SVG object>"
      ]
     },
     "metadata": {},
     "output_type": "display_data"
    },
    {
     "data": {
      "image/svg+xml": [
       "<svg baseProfile=\"tiny\" height=\"10mm\" version=\"1.2\" width=\"12cm\" xmlns=\"http://www.w3.org/2000/svg\" xmlns:ev=\"http://www.w3.org/2001/xml-events\" xmlns:xlink=\"http://www.w3.org/1999/xlink\"><defs/><rect fill=\"grey\" height=\"5mm\" opacity=\"0.5\" width=\"1.1287909696722427mm\" x=\"0.0mm\" y=\"5mm\"/><rect fill=\"black\" height=\"5mm\" opacity=\"0.5\" width=\"1.278389772881816mm\" x=\"16.22467020263838mm\" y=\"5mm\"/><rect fill=\"orange\" height=\"5mm\" opacity=\"0.5\" width=\"1.101591187270504mm\" x=\"21.025431796545625mm\" y=\"5mm\"/><rect fill=\"teal\" height=\"5mm\" opacity=\"0.5\" width=\"0.5439956480348158mm\" x=\"23.786209710322318mm\" y=\"5mm\"/><rect fill=\"green\" height=\"5mm\" opacity=\"0.5\" width=\"1.3327893376852948mm\" x=\"27.66217870257038mm\" y=\"5mm\"/><rect fill=\"blue\" height=\"5mm\" opacity=\"0.5\" width=\"2.0535835713314228mm\" x=\"29.98776009791922mm\" y=\"5mm\"/><rect fill=\"red\" height=\"5mm\" opacity=\"0.5\" width=\"1.441588467292263mm\" x=\"35.72691418468652mm\" y=\"5mm\"/><rect fill=\"brown\" height=\"5mm\" opacity=\"0.5\" width=\"2.1487828097375257mm\" x=\"38.39249286005712mm\" y=\"5mm\"/><rect fill=\"pink\" height=\"5mm\" opacity=\"0.5\" width=\"1.4143886848905254mm\" x=\"43.778049775601794mm\" y=\"5mm\"/><rect fill=\"yellow\" height=\"5mm\" opacity=\"0.5\" width=\"1.1559907520739827mm\" x=\"46.72922616619067mm\" y=\"5mm\"/><rect fill=\"grey\" height=\"5mm\" opacity=\"0.5\" width=\"1.8767849857201213mm\" x=\"49.068407452740374mm\" y=\"5mm\"/><rect fill=\"black\" height=\"5mm\" opacity=\"0.5\" width=\"1.6999864001087985mm\" x=\"52.930776553787574mm\" y=\"5mm\"/><rect fill=\"orange\" height=\"5mm\" opacity=\"0.5\" width=\"2.8423772609819125mm\" x=\"56.14035087719298mm\" y=\"5mm\"/><rect fill=\"teal\" height=\"5mm\" opacity=\"0.5\" width=\"1.9175846593227277mm\" x=\"60.0843193254454mm\" y=\"5mm\"/><rect fill=\"green\" height=\"5mm\" opacity=\"0.5\" width=\"1.5503875968992276mm\" x=\"66.88426492588059mm\" y=\"5mm\"/><rect fill=\"blue\" height=\"5mm\" opacity=\"0.5\" width=\"2.8967768257853805mm\" x=\"69.44104447164423mm\" y=\"5mm\"/><rect fill=\"red\" height=\"5mm\" opacity=\"0.5\" width=\"2.2983816129470966mm\" x=\"74.40500475996193mm\" y=\"5mm\"/><rect fill=\"brown\" height=\"5mm\" opacity=\"0.5\" width=\"1.3871889024887878mm\" x=\"78.33537331701346mm\" y=\"5mm\"/><rect fill=\"pink\" height=\"5mm\" opacity=\"0.5\" width=\"2.05358357133143mm\" x=\"81.42254861961105mm\" y=\"5mm\"/><rect fill=\"yellow\" height=\"5mm\" opacity=\"0.5\" width=\"0.9383924928600749mm\" x=\"85.2985176118591mm\" y=\"5mm\"/><rect fill=\"grey\" height=\"5mm\" opacity=\"0.5\" width=\"2.3391812865497172mm\" x=\"89.01128790969672mm\" y=\"5mm\"/><rect fill=\"black\" height=\"5mm\" opacity=\"0.5\" width=\"1.509587923296607mm\" x=\"93.07765537875697mm\" y=\"5mm\"/><rect fill=\"orange\" height=\"5mm\" opacity=\"0.5\" width=\"4.31116551067592mm\" x=\"95.68883448932408mm\" y=\"5mm\"/><line stroke=\"green\" x1=\"0mm\" x2=\"120mm\" y1=\"7.5mm\" y2=\"7.5mm\"/><text x=\"0mm\" y=\"3mm\">46304737</text><text x=\"100mm\" y=\"3mm\">46312090</text><text x=\"30mm\" y=\"4.5mm\">user transcript id:uc008hst.2</text></svg>"
      ],
      "text/plain": [
       "<IPython.core.display.SVG object>"
      ]
     },
     "metadata": {},
     "output_type": "display_data"
    },
    {
     "data": {
      "image/svg+xml": [
       "<svg baseProfile=\"tiny\" height=\"10mm\" version=\"1.2\" width=\"12cm\" xmlns=\"http://www.w3.org/2000/svg\" xmlns:ev=\"http://www.w3.org/2001/xml-events\" xmlns:xlink=\"http://www.w3.org/1999/xlink\"><defs/><rect fill=\"grey\" height=\"5mm\" opacity=\"0.5\" width=\"2.2085048010973938mm\" x=\"0.0mm\" y=\"5mm\"/><rect fill=\"black\" height=\"5mm\" opacity=\"0.5\" width=\"1.2894375857338822mm\" x=\"15.500685871056241mm\" y=\"5mm\"/><rect fill=\"orange\" height=\"5mm\" opacity=\"0.5\" width=\"1.1111111111111107mm\" x=\"20.342935528120712mm\" y=\"5mm\"/><rect fill=\"teal\" height=\"5mm\" opacity=\"0.5\" width=\"0.5486968449931418mm\" x=\"23.127572016460906mm\" y=\"5mm\"/><rect fill=\"green\" height=\"5mm\" opacity=\"0.5\" width=\"1.3443072702331946mm\" x=\"27.037037037037038mm\" y=\"5mm\"/><rect fill=\"blue\" height=\"5mm\" opacity=\"0.5\" width=\"2.071330589849108mm\" x=\"29.38271604938272mm\" y=\"5mm\"/><rect fill=\"red\" height=\"5mm\" opacity=\"0.5\" width=\"1.4540466392318265mm\" x=\"35.17146776406035mm\" y=\"5mm\"/><rect fill=\"brown\" height=\"5mm\" opacity=\"0.5\" width=\"2.1673525377229126mm\" x=\"37.86008230452675mm\" y=\"5mm\"/><rect fill=\"pink\" height=\"5mm\" opacity=\"0.5\" width=\"1.426611796982172mm\" x=\"43.29218106995884mm\" y=\"5mm\"/><rect fill=\"yellow\" height=\"5mm\" opacity=\"0.5\" width=\"1.1659807956104302mm\" x=\"46.268861454046636mm\" y=\"5mm\"/><rect fill=\"grey\" height=\"5mm\" opacity=\"0.5\" width=\"1.89300411522634mm\" x=\"48.628257887517144mm\" y=\"5mm\"/><rect fill=\"black\" height=\"5mm\" opacity=\"0.5\" width=\"1.7146776406035684mm\" x=\"52.52400548696845mm\" y=\"5mm\"/><rect fill=\"orange\" height=\"5mm\" opacity=\"0.5\" width=\"2.8669410150891608mm\" x=\"55.76131687242798mm\" y=\"5mm\"/><rect fill=\"teal\" height=\"5mm\" opacity=\"0.5\" width=\"1.934156378600811mm\" x=\"59.739368998628265mm\" y=\"5mm\"/><rect fill=\"green\" height=\"5mm\" opacity=\"0.5\" width=\"1.5637860082304513mm\" x=\"66.59807956104252mm\" y=\"5mm\"/><rect fill=\"blue\" height=\"5mm\" opacity=\"0.5\" width=\"2.9218106995884767mm\" x=\"69.17695473251028mm\" y=\"5mm\"/><rect fill=\"red\" height=\"5mm\" opacity=\"0.5\" width=\"2.318244170096037mm\" x=\"74.1838134430727mm\" y=\"5mm\"/><rect fill=\"brown\" height=\"5mm\" opacity=\"0.5\" width=\"1.3991769547325248mm\" x=\"78.14814814814814mm\" y=\"5mm\"/><rect fill=\"pink\" height=\"5mm\" opacity=\"0.5\" width=\"2.0713305898491114mm\" x=\"81.26200274348423mm\" y=\"5mm\"/><rect fill=\"yellow\" height=\"5mm\" opacity=\"0.5\" width=\"0.9465020576131593mm\" x=\"85.17146776406037mm\" y=\"5mm\"/><rect fill=\"grey\" height=\"5mm\" opacity=\"0.5\" width=\"2.3593964334705078mm\" x=\"88.91632373113855mm\" y=\"5mm\"/><rect fill=\"black\" height=\"5mm\" opacity=\"0.5\" width=\"1.5226337448559804mm\" x=\"93.01783264746227mm\" y=\"5mm\"/><rect fill=\"orange\" height=\"5mm\" opacity=\"0.5\" width=\"4.348422496570649mm\" x=\"95.65157750342935mm\" y=\"5mm\"/><line stroke=\"green\" x1=\"0mm\" x2=\"120mm\" y1=\"7.5mm\" y2=\"7.5mm\"/><text x=\"0mm\" y=\"3mm\">46304800</text><text x=\"100mm\" y=\"3mm\">46312090</text><text x=\"30mm\" y=\"4.5mm\">user transcript id:uc008hsv.1</text></svg>"
      ],
      "text/plain": [
       "<IPython.core.display.SVG object>"
      ]
     },
     "metadata": {},
     "output_type": "display_data"
    },
    {
     "data": {
      "image/svg+xml": [
       "<svg baseProfile=\"tiny\" height=\"10mm\" version=\"1.2\" width=\"12cm\" xmlns=\"http://www.w3.org/2000/svg\" xmlns:ev=\"http://www.w3.org/2001/xml-events\" xmlns:xlink=\"http://www.w3.org/1999/xlink\"><defs/><rect fill=\"grey\" height=\"5mm\" opacity=\"0.5\" width=\"3.4174716941934142mm\" x=\"0.0mm\" y=\"5mm\"/><rect fill=\"black\" height=\"5mm\" opacity=\"0.5\" width=\"0.8413836086008102mm\" x=\"6.1078217513244mm\" y=\"5mm\"/><rect fill=\"orange\" height=\"5mm\" opacity=\"0.5\" width=\"0.41549807832138796mm\" x=\"8.216474498805443mm\" y=\"5mm\"/><rect fill=\"teal\" height=\"5mm\" opacity=\"0.5\" width=\"1.0179702918873996mm\" x=\"11.176898306845331mm\" y=\"5mm\"/><rect fill=\"green\" height=\"5mm\" opacity=\"0.5\" width=\"1.5685052456632373mm\" x=\"12.953152591669264mm\" y=\"5mm\"/><rect fill=\"blue\" height=\"5mm\" opacity=\"0.5\" width=\"1.101069907551679mm\" x=\"17.336657317959904mm\" y=\"5mm\"/><rect fill=\"red\" height=\"5mm\" opacity=\"0.5\" width=\"1.6412174093694816mm\" x=\"19.372597901734704mm\" y=\"5mm\"/><rect fill=\"brown\" height=\"5mm\" opacity=\"0.5\" width=\"1.0802950036356087mm\" x=\"23.486028877116443mm\" y=\"5mm\"/><rect fill=\"pink\" height=\"5mm\" opacity=\"0.5\" width=\"0.8829334164329445mm\" x=\"25.740105952009973mm\" y=\"5mm\"/><rect fill=\"yellow\" height=\"5mm\" opacity=\"0.5\" width=\"1.4334683702087823mm\" x=\"27.526747688791943mm\" y=\"5mm\"/><rect fill=\"grey\" height=\"5mm\" opacity=\"0.5\" width=\"1.2984314947543325mm\" x=\"30.476784044873796mm\" y=\"5mm\"/><rect fill=\"black\" height=\"5mm\" opacity=\"0.5\" width=\"2.170977459229256mm\" x=\"32.928222706969976mm\" y=\"5mm\"/><rect fill=\"orange\" height=\"5mm\" opacity=\"0.5\" width=\"1.4646307260828948mm\" x=\"35.94058377480004mm\" y=\"5mm\"/><rect fill=\"teal\" height=\"5mm\" opacity=\"0.5\" width=\"1.1841695232159566mm\" x=\"41.13430975381739mm\" y=\"5mm\"/><rect fill=\"green\" height=\"5mm\" opacity=\"0.5\" width=\"2.2125272670613896mm\" x=\"43.08715072192791mm\" y=\"5mm\"/><rect fill=\"blue\" height=\"5mm\" opacity=\"0.5\" width=\"1.7554793809078575mm\" x=\"46.87857068661058mm\" y=\"5mm\"/><rect fill=\"red\" height=\"5mm\" opacity=\"0.5\" width=\"1.0595200997195349mm\" x=\"49.8805443024826mm\" y=\"5mm\"/><rect fill=\"brown\" height=\"5mm\" opacity=\"0.5\" width=\"1.5685052456632391mm\" x=\"52.23849589695647mm\" y=\"5mm\"/><rect fill=\"pink\" height=\"5mm\" opacity=\"0.5\" width=\"0.7167341851043929mm\" x=\"55.198919704996364mm\" y=\"5mm\"/><rect fill=\"yellow\" height=\"5mm\" opacity=\"0.5\" width=\"1.7866417367819665mm\" x=\"58.03469408953984mm\" y=\"5mm\"/><rect fill=\"grey\" height=\"5mm\" opacity=\"0.5\" width=\"34.912226030954606mm\" x=\"61.14054222499221mm\" y=\"5mm\"/><rect fill=\"black\" height=\"5mm\" opacity=\"0.5\" width=\"2.7318998649631254mm\" x=\"97.26810013503687mm\" y=\"5mm\"/><line stroke=\"green\" x1=\"0mm\" x2=\"120mm\" y1=\"7.5mm\" y2=\"7.5mm\"/><text x=\"0mm\" y=\"3mm\">46305695</text><text x=\"100mm\" y=\"3mm\">46315322</text><text x=\"30mm\" y=\"4.5mm\">user transcript id:CUFF.36899.4</text></svg>"
      ],
      "text/plain": [
       "<IPython.core.display.SVG object>"
      ]
     },
     "metadata": {},
     "output_type": "display_data"
    },
    {
     "data": {
      "image/svg+xml": [
       "<svg baseProfile=\"tiny\" height=\"10mm\" version=\"1.2\" width=\"12cm\" xmlns=\"http://www.w3.org/2000/svg\" xmlns:ev=\"http://www.w3.org/2001/xml-events\" xmlns:xlink=\"http://www.w3.org/1999/xlink\"><defs/><rect fill=\"grey\" height=\"5mm\" opacity=\"0.5\" width=\"5.144644253322909mm\" x=\"0.0mm\" y=\"5mm\"/><rect fill=\"black\" height=\"5mm\" opacity=\"0.5\" width=\"1.2666145426114142mm\" x=\"9.194683346364348mm\" y=\"5mm\"/><rect fill=\"orange\" height=\"5mm\" opacity=\"0.5\" width=\"0.6254886630179826mm\" x=\"12.36903831118061mm\" y=\"5mm\"/><rect fill=\"teal\" height=\"5mm\" opacity=\"0.5\" width=\"1.5324472243940583mm\" x=\"16.825645035183737mm\" y=\"5mm\"/><rect fill=\"green\" height=\"5mm\" opacity=\"0.5\" width=\"2.3612197028928854mm\" x=\"19.499609069585613mm\" y=\"5mm\"/><rect fill=\"blue\" height=\"5mm\" opacity=\"0.5\" width=\"1.6575449569976541mm\" x=\"26.09851446442533mm\" y=\"5mm\"/><rect fill=\"red\" height=\"5mm\" opacity=\"0.5\" width=\"2.4706802189210357mm\" x=\"29.163408913213445mm\" y=\"5mm\"/><rect fill=\"brown\" height=\"5mm\" opacity=\"0.5\" width=\"1.626270523846756mm\" x=\"35.355746677091474mm\" y=\"5mm\"/><rect fill=\"pink\" height=\"5mm\" opacity=\"0.5\" width=\"1.3291634089132103mm\" x=\"38.749022673964035mm\" y=\"5mm\"/><rect fill=\"yellow\" height=\"5mm\" opacity=\"0.5\" width=\"2.1579358874120445mm\" x=\"41.43862392494136mm\" y=\"5mm\"/><rect fill=\"grey\" height=\"5mm\" opacity=\"0.5\" width=\"1.9546520719312mm\" x=\"45.879593432369035mm\" y=\"5mm\"/><rect fill=\"black\" height=\"5mm\" opacity=\"0.5\" width=\"3.268178264268961mm\" x=\"49.569976544175134mm\" y=\"5mm\"/><rect fill=\"orange\" height=\"5mm\" opacity=\"0.5\" width=\"2.2048475371383844mm\" x=\"54.104769351055516mm\" y=\"5mm\"/><rect fill=\"teal\" height=\"5mm\" opacity=\"0.5\" width=\"1.7826426896012606mm\" x=\"61.923377638780295mm\" y=\"5mm\"/><rect fill=\"green\" height=\"5mm\" opacity=\"0.5\" width=\"3.3307271305707644mm\" x=\"64.86317435496481mm\" y=\"5mm\"/><rect fill=\"blue\" height=\"5mm\" opacity=\"0.5\" width=\"2.6426896012509786mm\" x=\"70.57075840500391mm\" y=\"5mm\"/><rect fill=\"red\" height=\"5mm\" opacity=\"0.5\" width=\"1.594996090695858mm\" x=\"75.08991399530883mm\" y=\"5mm\"/><rect fill=\"brown\" height=\"5mm\" opacity=\"0.5\" width=\"2.361219702892896mm\" x=\"78.63956215793588mm\" y=\"5mm\"/><rect fill=\"pink\" height=\"5mm\" opacity=\"0.5\" width=\"1.0789679437060329mm\" x=\"83.09616888193901mm\" y=\"5mm\"/><rect fill=\"yellow\" height=\"5mm\" opacity=\"0.5\" width=\"2.689601250977333mm\" x=\"87.36512900703674mm\" y=\"5mm\"/><rect fill=\"grey\" height=\"5mm\" opacity=\"0.5\" width=\"1.7357310398748922mm\" x=\"92.04065676309618mm\" y=\"5mm\"/><rect fill=\"black\" height=\"5mm\" opacity=\"0.5\" width=\"4.9569976544175205mm\" x=\"95.04300234558248mm\" y=\"5mm\"/><line stroke=\"green\" x1=\"0mm\" x2=\"120mm\" y1=\"7.5mm\" y2=\"7.5mm\"/><text x=\"0mm\" y=\"3mm\">46305695</text><text x=\"100mm\" y=\"3mm\">46312090</text><text x=\"30mm\" y=\"4.5mm\">user transcript id:uc008hsx.2</text></svg>"
      ],
      "text/plain": [
       "<IPython.core.display.SVG object>"
      ]
     },
     "metadata": {},
     "output_type": "display_data"
    },
    {
     "data": {
      "image/svg+xml": [
       "<svg baseProfile=\"tiny\" height=\"10mm\" version=\"1.2\" width=\"12cm\" xmlns=\"http://www.w3.org/2000/svg\" xmlns:ev=\"http://www.w3.org/2001/xml-events\" xmlns:xlink=\"http://www.w3.org/1999/xlink\"><defs/><rect fill=\"grey\" height=\"5mm\" opacity=\"0.5\" width=\"1.525974025974026mm\" x=\"0.0mm\" y=\"5mm\"/><rect fill=\"black\" height=\"5mm\" opacity=\"0.5\" width=\"1.3149350649350646mm\" x=\"5.73051948051948mm\" y=\"5mm\"/><rect fill=\"orange\" height=\"5mm\" opacity=\"0.5\" width=\"0.6493506493506498mm\" x=\"9.025974025974026mm\" y=\"5mm\"/><rect fill=\"teal\" height=\"5mm\" opacity=\"0.5\" width=\"1.59090909090909mm\" x=\"13.652597402597403mm\" y=\"5mm\"/><rect fill=\"green\" height=\"5mm\" opacity=\"0.5\" width=\"2.451298701298704mm\" x=\"16.428571428571427mm\" y=\"5mm\"/><rect fill=\"blue\" height=\"5mm\" opacity=\"0.5\" width=\"1.720779220779221mm\" x=\"23.27922077922078mm\" y=\"5mm\"/><rect fill=\"red\" height=\"5mm\" opacity=\"0.5\" width=\"2.5649350649350637mm\" x=\"26.461038961038962mm\" y=\"5mm\"/><rect fill=\"brown\" height=\"5mm\" opacity=\"0.5\" width=\"1.6883116883116926mm\" x=\"32.88961038961039mm\" y=\"5mm\"/><rect fill=\"pink\" height=\"5mm\" opacity=\"0.5\" width=\"1.3798701298701275mm\" x=\"36.41233766233766mm\" y=\"5mm\"/><rect fill=\"yellow\" height=\"5mm\" opacity=\"0.5\" width=\"2.240259740259745mm\" x=\"39.20454545454545mm\" y=\"5mm\"/><rect fill=\"grey\" height=\"5mm\" opacity=\"0.5\" width=\"2.029220779220779mm\" x=\"43.814935064935064mm\" y=\"5mm\"/><rect fill=\"black\" height=\"5mm\" opacity=\"0.5\" width=\"3.392857142857146mm\" x=\"47.646103896103895mm\" y=\"5mm\"/><rect fill=\"orange\" height=\"5mm\" opacity=\"0.5\" width=\"2.288961038961034mm\" x=\"52.353896103896105mm\" y=\"5mm\"/><rect fill=\"teal\" height=\"5mm\" opacity=\"0.5\" width=\"1.8506493506493413mm\" x=\"60.47077922077923mm\" y=\"5mm\"/><rect fill=\"green\" height=\"5mm\" opacity=\"0.5\" width=\"3.4577922077922167mm\" x=\"63.52272727272727mm\" y=\"5mm\"/><rect fill=\"blue\" height=\"5mm\" opacity=\"0.5\" width=\"2.7435064935064872mm\" x=\"69.44805194805195mm\" y=\"5mm\"/><rect fill=\"red\" height=\"5mm\" opacity=\"0.5\" width=\"1.6558441558441643mm\" x=\"74.13961038961038mm\" y=\"5mm\"/><rect fill=\"brown\" height=\"5mm\" opacity=\"0.5\" width=\"2.451298701298697mm\" x=\"77.82467532467533mm\" y=\"5mm\"/><rect fill=\"pink\" height=\"5mm\" opacity=\"0.5\" width=\"1.1201298701298725mm\" x=\"82.4512987012987mm\" y=\"5mm\"/><rect fill=\"yellow\" height=\"5mm\" opacity=\"0.5\" width=\"2.7922077922077904mm\" x=\"86.88311688311688mm\" y=\"5mm\"/><rect fill=\"grey\" height=\"5mm\" opacity=\"0.5\" width=\"1.8019480519480595mm\" x=\"91.73701298701299mm\" y=\"5mm\"/><rect fill=\"black\" height=\"5mm\" opacity=\"0.5\" width=\"5.194805194805198mm\" x=\"94.8051948051948mm\" y=\"5mm\"/><line stroke=\"green\" x1=\"0mm\" x2=\"120mm\" y1=\"7.5mm\" y2=\"7.5mm\"/><text x=\"0mm\" y=\"3mm\">46305930</text><text x=\"100mm\" y=\"3mm\">46312090</text><text x=\"30mm\" y=\"4.5mm\">user transcript id:uc008hsy.2</text></svg>"
      ],
      "text/plain": [
       "<IPython.core.display.SVG object>"
      ]
     },
     "metadata": {},
     "output_type": "display_data"
    },
    {
     "data": {
      "image/svg+xml": [
       "<svg baseProfile=\"tiny\" height=\"10mm\" version=\"1.2\" width=\"12cm\" xmlns=\"http://www.w3.org/2000/svg\" xmlns:ev=\"http://www.w3.org/2001/xml-events\" xmlns:xlink=\"http://www.w3.org/1999/xlink\"><defs/><rect fill=\"grey\" height=\"5mm\" opacity=\"0.5\" width=\"1.525974025974026mm\" x=\"0.0mm\" y=\"5mm\"/><rect fill=\"black\" height=\"5mm\" opacity=\"0.5\" width=\"3.9448051948051956mm\" x=\"5.73051948051948mm\" y=\"5mm\"/><rect fill=\"orange\" height=\"5mm\" opacity=\"0.5\" width=\"1.59090909090909mm\" x=\"13.652597402597403mm\" y=\"5mm\"/><rect fill=\"teal\" height=\"5mm\" opacity=\"0.5\" width=\"2.451298701298704mm\" x=\"16.428571428571427mm\" y=\"5mm\"/><rect fill=\"green\" height=\"5mm\" opacity=\"0.5\" width=\"1.720779220779221mm\" x=\"23.27922077922078mm\" y=\"5mm\"/><rect fill=\"blue\" height=\"5mm\" opacity=\"0.5\" width=\"2.5649350649350637mm\" x=\"26.461038961038962mm\" y=\"5mm\"/><rect fill=\"red\" height=\"5mm\" opacity=\"0.5\" width=\"1.6883116883116926mm\" x=\"32.88961038961039mm\" y=\"5mm\"/><rect fill=\"brown\" height=\"5mm\" opacity=\"0.5\" width=\"1.3798701298701275mm\" x=\"36.41233766233766mm\" y=\"5mm\"/><rect fill=\"pink\" height=\"5mm\" opacity=\"0.5\" width=\"2.240259740259745mm\" x=\"39.20454545454545mm\" y=\"5mm\"/><rect fill=\"yellow\" height=\"5mm\" opacity=\"0.5\" width=\"2.029220779220779mm\" x=\"43.814935064935064mm\" y=\"5mm\"/><rect fill=\"grey\" height=\"5mm\" opacity=\"0.5\" width=\"3.392857142857146mm\" x=\"47.646103896103895mm\" y=\"5mm\"/><rect fill=\"black\" height=\"5mm\" opacity=\"0.5\" width=\"2.288961038961034mm\" x=\"52.353896103896105mm\" y=\"5mm\"/><rect fill=\"orange\" height=\"5mm\" opacity=\"0.5\" width=\"1.8506493506493413mm\" x=\"60.47077922077923mm\" y=\"5mm\"/><rect fill=\"teal\" height=\"5mm\" opacity=\"0.5\" width=\"3.4577922077922167mm\" x=\"63.52272727272727mm\" y=\"5mm\"/><rect fill=\"green\" height=\"5mm\" opacity=\"0.5\" width=\"2.7435064935064872mm\" x=\"69.44805194805195mm\" y=\"5mm\"/><rect fill=\"blue\" height=\"5mm\" opacity=\"0.5\" width=\"1.6558441558441643mm\" x=\"74.13961038961038mm\" y=\"5mm\"/><rect fill=\"red\" height=\"5mm\" opacity=\"0.5\" width=\"2.451298701298697mm\" x=\"77.82467532467533mm\" y=\"5mm\"/><rect fill=\"brown\" height=\"5mm\" opacity=\"0.5\" width=\"1.1201298701298725mm\" x=\"82.4512987012987mm\" y=\"5mm\"/><rect fill=\"pink\" height=\"5mm\" opacity=\"0.5\" width=\"2.7922077922077904mm\" x=\"86.88311688311688mm\" y=\"5mm\"/><rect fill=\"yellow\" height=\"5mm\" opacity=\"0.5\" width=\"1.8019480519480595mm\" x=\"91.73701298701299mm\" y=\"5mm\"/><rect fill=\"grey\" height=\"5mm\" opacity=\"0.5\" width=\"5.146103896103895mm\" x=\"94.8538961038961mm\" y=\"5mm\"/><line stroke=\"green\" x1=\"0mm\" x2=\"120mm\" y1=\"7.5mm\" y2=\"7.5mm\"/><text x=\"0mm\" y=\"3mm\">46305930</text><text x=\"100mm\" y=\"3mm\">46312090</text><text x=\"30mm\" y=\"4.5mm\">user transcript id:uc008hsz.1</text></svg>"
      ],
      "text/plain": [
       "<IPython.core.display.SVG object>"
      ]
     },
     "metadata": {},
     "output_type": "display_data"
    },
    {
     "data": {
      "image/svg+xml": [
       "<svg baseProfile=\"tiny\" height=\"10mm\" version=\"1.2\" width=\"12cm\" xmlns=\"http://www.w3.org/2000/svg\" xmlns:ev=\"http://www.w3.org/2001/xml-events\" xmlns:xlink=\"http://www.w3.org/1999/xlink\"><defs/><rect fill=\"grey\" height=\"5mm\" opacity=\"0.5\" width=\"1.525974025974026mm\" x=\"0.0mm\" y=\"5mm\"/><rect fill=\"black\" height=\"5mm\" opacity=\"0.5\" width=\"1.3149350649350646mm\" x=\"5.73051948051948mm\" y=\"5mm\"/><rect fill=\"orange\" height=\"5mm\" opacity=\"0.5\" width=\"0.6493506493506498mm\" x=\"9.025974025974026mm\" y=\"5mm\"/><rect fill=\"teal\" height=\"5mm\" opacity=\"0.5\" width=\"1.59090909090909mm\" x=\"13.652597402597403mm\" y=\"5mm\"/><rect fill=\"green\" height=\"5mm\" opacity=\"0.5\" width=\"2.451298701298704mm\" x=\"16.428571428571427mm\" y=\"5mm\"/><rect fill=\"blue\" height=\"5mm\" opacity=\"0.5\" width=\"1.720779220779221mm\" x=\"23.27922077922078mm\" y=\"5mm\"/><rect fill=\"red\" height=\"5mm\" opacity=\"0.5\" width=\"2.5649350649350637mm\" x=\"26.461038961038962mm\" y=\"5mm\"/><rect fill=\"brown\" height=\"5mm\" opacity=\"0.5\" width=\"1.6883116883116926mm\" x=\"32.88961038961039mm\" y=\"5mm\"/><rect fill=\"pink\" height=\"5mm\" opacity=\"0.5\" width=\"1.3798701298701275mm\" x=\"36.41233766233766mm\" y=\"5mm\"/><rect fill=\"yellow\" height=\"5mm\" opacity=\"0.5\" width=\"2.240259740259745mm\" x=\"39.20454545454545mm\" y=\"5mm\"/><rect fill=\"grey\" height=\"5mm\" opacity=\"0.5\" width=\"2.029220779220779mm\" x=\"43.814935064935064mm\" y=\"5mm\"/><rect fill=\"black\" height=\"5mm\" opacity=\"0.5\" width=\"3.392857142857146mm\" x=\"47.646103896103895mm\" y=\"5mm\"/><rect fill=\"orange\" height=\"5mm\" opacity=\"0.5\" width=\"2.288961038961034mm\" x=\"52.353896103896105mm\" y=\"5mm\"/><rect fill=\"teal\" height=\"5mm\" opacity=\"0.5\" width=\"1.8506493506493413mm\" x=\"60.47077922077923mm\" y=\"5mm\"/><rect fill=\"green\" height=\"5mm\" opacity=\"0.5\" width=\"3.4577922077922167mm\" x=\"63.52272727272727mm\" y=\"5mm\"/><rect fill=\"blue\" height=\"5mm\" opacity=\"0.5\" width=\"2.7435064935064872mm\" x=\"69.44805194805195mm\" y=\"5mm\"/><rect fill=\"red\" height=\"5mm\" opacity=\"0.5\" width=\"1.6558441558441643mm\" x=\"74.13961038961038mm\" y=\"5mm\"/><rect fill=\"brown\" height=\"5mm\" opacity=\"0.5\" width=\"2.451298701298697mm\" x=\"77.82467532467533mm\" y=\"5mm\"/><rect fill=\"pink\" height=\"5mm\" opacity=\"0.5\" width=\"2.7922077922077904mm\" x=\"86.88311688311688mm\" y=\"5mm\"/><rect fill=\"yellow\" height=\"5mm\" opacity=\"0.5\" width=\"1.8019480519480595mm\" x=\"91.73701298701299mm\" y=\"5mm\"/><rect fill=\"grey\" height=\"5mm\" opacity=\"0.5\" width=\"5.146103896103895mm\" x=\"94.8538961038961mm\" y=\"5mm\"/><line stroke=\"green\" x1=\"0mm\" x2=\"120mm\" y1=\"7.5mm\" y2=\"7.5mm\"/><text x=\"0mm\" y=\"3mm\">46305930</text><text x=\"100mm\" y=\"3mm\">46312090</text><text x=\"30mm\" y=\"4.5mm\">user transcript id:uc008hta.1</text></svg>"
      ],
      "text/plain": [
       "<IPython.core.display.SVG object>"
      ]
     },
     "metadata": {},
     "output_type": "display_data"
    }
   ],
   "source": [
    "from dochap_tool.draw_utils import draw_tool\n",
    "from dochap_tool.common_utils import utils\n",
    "from dochap_tool.gtf_utils import parser as gtf_parser\n",
    "from dochap_tool.compare_utils import compare_exons\n",
    "from IPython.core.display import SVG,display\n",
    "gene_symbol='nfkb2'\n",
    "exons_variants = compare_exons.get_exons_from_gene_symbol('data','Mus_musculus',gene_symbol)\n",
    "gtf_data = gtf_parser.parse_gtf_file('gtf_testing/transcripts.gtf')\n",
    "user_exons = gtf_parser.get_transcripts_like_ids(gtf_data, exons_variants.keys())\n",
    "\n",
    "domains_variants = compare_exons.get_domains_of_gene_symbol('data','Mus_musculus',gene_symbol)\n",
    "for t_id in exons_variants:\n",
    "    #if t_id in user_exons:\n",
    "    #    t_id_text = f'user transcript id:{t_id}'\n",
    "    #    display(SVG(data=draw_tool.draw_exons_real(user_exons[t_id],t_id_text)))\n",
    "    #    del user_exons[t_id]\n",
    "    t_id_text = f'db transcript id: {t_id}'\n",
    "    display(SVG(data=draw_tool.draw_exons_real(exons_variants[t_id],t_id_text)))\n",
    "    for index,domain_variant in enumerate(domains_variants):\n",
    "        variant_text = f'db domain variant: {index+1}'\n",
    "        display(SVG(data=draw_tool.draw_domains(domain_variant,variant_text)))\n",
    "for t_id in user_exons:\n",
    "    # draw the remaning exons\n",
    "    t_id_text = f'user transcript id:{t_id}'\n",
    "    display(SVG(data=draw_tool.draw_exons_real(user_exons[t_id],t_id_text)))"
   ]
  }
 ],
 "metadata": {
  "kernelspec": {
   "display_name": "Python 3",
   "language": "python",
   "name": "python3"
  },
  "language_info": {
   "codemirror_mode": {
    "name": "ipython",
    "version": 3
   },
   "file_extension": ".py",
   "mimetype": "text/x-python",
   "name": "python",
   "nbconvert_exporter": "python",
   "pygments_lexer": "ipython3",
   "version": "3.6.4"
  }
 },
 "nbformat": 4,
 "nbformat_minor": 2
}
