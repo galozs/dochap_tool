{
 "cells": [
  {
   "cell_type": "code",
   "execution_count": null,
   "metadata": {
    "collapsed": true
   },
   "outputs": [],
   "source": [
    "# coloring json for ease on the eyes\n",
    "from pygments import highlight, lexers, formatters\n",
    "def format_and_color(param):\n",
    "    formatted_json = json.dumps(param,indent=4)\n",
    "    colorful_json = highlight(formatted_json, lexers.JsonLexer(), formatters.TerminalFormatter())\n",
    "    return colorful_json"
   ]
  },
  {
   "cell_type": "markdown",
   "metadata": {},
   "source": [
    "## Getting transcript ids of gene symbols"
   ]
  },
  {
   "cell_type": "code",
   "execution_count": null,
   "metadata": {},
   "outputs": [],
   "source": [
    "from common_utils import utils\n",
    "from compare_utils import compare_exons\n",
    "import json\n",
    "conn = utils.get_connection_object('data','Mus_musculus')\n",
    "with conn:\n",
    "    t_ids1 = compare_exons.get_transcript_ids_of_gene_symbol(conn,'Xkr5')\n",
    "    t_ids2 = compare_exons.get_transcript_ids_of_gene_symbol(conn,'Xkr4')\n",
    "    t_ids3 = compare_exons.get_transcript_ids_of_gene_symbol(conn,'noactualgene')\n",
    "    print('t_ids1:',format_and_color(t_ids1))\n",
    "    print('t_ids2:',format_and_color(t_ids2))\n",
    "    print('t_ids3:',format_and_color(t_ids3))"
   ]
  },
  {
   "cell_type": "markdown",
   "metadata": {},
   "source": [
    "## Getting exons from the database"
   ]
  },
  {
   "cell_type": "markdown",
   "metadata": {},
   "source": [
    "### By transcript id"
   ]
  },
  {
   "cell_type": "code",
   "execution_count": null,
   "metadata": {
    "scrolled": true
   },
   "outputs": [],
   "source": [
    "exons = compare_exons.get_exons_from_transcript_id('data','Mus_musculus','uc009kzx.3')\n",
    "print (format_and_color(exons))"
   ]
  },
  {
   "cell_type": "markdown",
   "metadata": {},
   "source": [
    "### By gene symbol"
   ]
  },
  {
   "cell_type": "code",
   "execution_count": null,
   "metadata": {
    "scrolled": true
   },
   "outputs": [],
   "source": [
    "exons = compare_exons.get_exons_from_gene_symbol('data','Mus_musculus','Xkr5')\n",
    "print (format_and_color(exons))"
   ]
  },
  {
   "cell_type": "markdown",
   "metadata": {},
   "source": [
    "## Getting domains from the database"
   ]
  },
  {
   "cell_type": "code",
   "execution_count": null,
   "metadata": {},
   "outputs": [],
   "source": [
    "domains = compare_exons.get_domains_of_gene_symbol('data','Mus_musculus','Xkr5')\n",
    "print(format_and_color(domains))"
   ]
  },
  {
   "cell_type": "markdown",
   "metadata": {},
   "source": [
    "## Getting intersections between exons and domains"
   ]
  },
  {
   "cell_type": "code",
   "execution_count": null,
   "metadata": {},
   "outputs": [],
   "source": [
    "gene_symbol = 'Xkr4'\n",
    "exons_variants = compare_exons.get_exons_from_gene_symbol('data','Mus_musculus',gene_symbol)\n",
    "domains_variants = compare_exons.get_domains_of_gene_symbol('data','Mus_musculus',gene_symbol)\n",
    "print(f'intersections by transcript ids and domain variations for gene symbol {gene_symbol}:\\n')\n",
    "for transcript_id, exons_variant in exons_variants.items():\n",
    "    for domains_variant_index,domains_variant in enumerate(domains_variants):\n",
    "        intersections = compare_exons.get_domains_intersections_in_exons(domains_variant,exons_variant)\n",
    "        print(f'transcript_id:{transcript_id}, domain_variant:{domains_variant_index}\\n',format_and_color(intersections))\n"
   ]
  },
  {
   "cell_type": "markdown",
   "metadata": {},
   "source": [
    "## Creating the database"
   ]
  },
  {
   "cell_type": "code",
   "execution_count": null,
   "metadata": {
    "scrolled": false
   },
   "outputs": [],
   "source": [
    "# create Mus_musculus database for testing functions\n",
    "from db_utils import create_db\n",
    "# create_db needs a folder for storing the db files, and a specie to create a db for.\n",
    "create_db.create_db('data','Mus_musculus')"
   ]
  }
 ],
 "metadata": {
  "kernelspec": {
   "display_name": "Python 3",
   "language": "python",
   "name": "python3"
  },
  "language_info": {
   "codemirror_mode": {
    "name": "ipython",
    "version": 3
   },
   "file_extension": ".py",
   "mimetype": "text/x-python",
   "name": "python",
   "nbconvert_exporter": "python",
   "pygments_lexer": "ipython3",
   "version": "3.6.4"
  }
 },
 "nbformat": 4,
 "nbformat_minor": 2
}
